{
 "cells": [
  {
   "cell_type": "markdown",
   "id": "ecf6e1ac-1a02-417e-9718-c69bfbd2824f",
   "metadata": {},
   "source": [
    "### Basic introduction to working with tabular data in python\n",
    "Before getting started, make sure you have activated the `scrnaseq` environment which we created with mamba earlier on (you should have started the notebook server from within that environment). This is recommended because the packages we will need for this tutorial are already installed into that environment."
   ]
  },
  {
   "cell_type": "markdown",
   "id": "0a44ddf3-602e-4385-b587-d39c92b6142e",
   "metadata": {},
   "source": [
    "#### 1. Import the required packages"
   ]
  },
  {
   "cell_type": "code",
   "execution_count": null,
   "id": "427e5a0a-8954-4c5a-8037-d3cb1e16ad5c",
   "metadata": {},
   "outputs": [],
   "source": [
    "import numpy as np  # allows to manipulate arrays\n",
    "import pandas as pd  # allows to work with tabular data\n",
    "import matplotlib.pyplot as plt  # allows to plot\n",
    "import seaborn as sns  # makes your plots look nicer and gives you advanced plotting options"
   ]
  },
  {
   "attachments": {},
   "cell_type": "markdown",
   "id": "f67b08d6-d5fd-4e41-8c5f-badf365e3688",
   "metadata": {},
   "source": [
    "#### 2. Download the dataset\n",
    "You can download the .csv file of the dataset from here https://gist.github.com/slopp/ce3b90b9168f2f921784de84fa445651#file-penguins-csv (via the button Download ZIP at the top right, then unzip and move dataset to a project folder). \n",
    "\n",
    "This dataset contains measurements of penguins from different species – you can think of it as similar to a dataset on cells from different types, like what we will be working with later. \n",
    "\n",
    "An in depth educational analysis of the dataset can be found here https://allisonhorst.github.io/palmerpenguins/articles/intro.html for R and, with less detail, for python here https://github.com/mcnakhaee/palmerpenguins, but we recommend you refrain from looking at this too much now and rather find your own way to maximize learning."
   ]
  },
  {
   "cell_type": "markdown",
   "id": "d78a728d-4239-41ab-a9c7-b27b474a0a52",
   "metadata": {},
   "source": [
    "#### 3. Loading and inspecting the data\n",
    "The comments (lines which start with #, contain comments and are not executed as python code) contain step-by-step instructions to work with the penguin dataset. Add corresponding python code below each comment. For easier debugging and comparisons with other participants, we suggest you keep the suggested names."
   ]
  },
  {
   "cell_type": "code",
   "execution_count": null,
   "id": "93ff5151-23a5-4fd1-ae3e-b8cc5198a5b6",
   "metadata": {},
   "outputs": [],
   "source": [
    "# Load the penguin dataset\n",
    "penguins = pd.read_csv(\"penguins.csv\", index_col=0)"
   ]
  },
  {
   "cell_type": "code",
   "execution_count": null,
   "id": "51f44116-f11e-43b0-a5ad-6a0458305383",
   "metadata": {},
   "outputs": [],
   "source": [
    "# Display the first few rows of the dataset\n"
   ]
  },
  {
   "cell_type": "code",
   "execution_count": null,
   "id": "c173619e-b86f-4f5d-b451-8a77dfd3f9fe",
   "metadata": {},
   "outputs": [],
   "source": [
    "# Get the dataset dimensions, i.e. the number of penguins in the dataset and the number of features\n"
   ]
  },
  {
   "cell_type": "code",
   "execution_count": null,
   "id": "4bc1b20b-9ea5-4eed-ac53-304b690ad3f1",
   "metadata": {},
   "outputs": [],
   "source": [
    "# For each feature, check the datatype - what do the resulting types mean?\n"
   ]
  },
  {
   "cell_type": "code",
   "execution_count": null,
   "id": "18d743bf-aa06-494d-8a98-908b79bd4fee",
   "metadata": {},
   "outputs": [],
   "source": [
    "# For caterogrical data, the categories used can be displayed like this:\n",
    "print(penguins['species'].unique())\n",
    "# Print to screen and inspect the categories for all categorical data types\n"
   ]
  },
  {
   "cell_type": "markdown",
   "id": "910a11f6-376e-4859-a00d-4afbb2700f78",
   "metadata": {},
   "source": [
    "There seems to be \"nan\" as a gender. What does this mean?"
   ]
  },
  {
   "cell_type": "code",
   "execution_count": null,
   "id": "17682902-7fba-49a0-882b-f08f23c777b3",
   "metadata": {},
   "outputs": [],
   "source": [
    "# search for missing data entries in the dataframe. How many values are missing?\n"
   ]
  },
  {
   "cell_type": "markdown",
   "id": "726747d0-04aa-44f0-b461-badd1a72af9e",
   "metadata": {},
   "source": [
    "### 3.1 Questions\n",
    "Based on the analysis above, discuss with your neighbor and note down the answers to the following questions into the notebook:\n",
    "1. How many penguins and features do we have in this dataset?\n",
    "2. What are te different penguin species (think: cell types)?\n",
    "3. Are there any missing values in the dataset that we need to handle? Do you have preliminary ideas on how to handle them?\n",
    "4. What are the numerical features in this dataset which we can analyze?"
   ]
  },
  {
   "cell_type": "markdown",
   "id": "37f4ed51-b1ea-4005-93f0-0a705f020a07",
   "metadata": {},
   "source": [
    "### 4. Preprocessing the data\n",
    "As above, you will find instructions written as comments below which you have to turn into python code. The steps in this section help us prepare to data for the actual analysis."
   ]
  },
  {
   "cell_type": "code",
   "execution_count": null,
   "id": "ad886267-10e1-44e7-91b4-32ce4f79e34f",
   "metadata": {},
   "outputs": [],
   "source": [
    "# Remove all rows with missing entries from the dataframe\n",
    "penguins_complete = penguins.dropna()"
   ]
  },
  {
   "cell_type": "code",
   "execution_count": null,
   "id": "5ccb0b7d-7740-4d1d-bcc2-0a70edb14017",
   "metadata": {},
   "outputs": [],
   "source": [
    "# Measure the size of the new dataframe\n"
   ]
  },
  {
   "cell_type": "code",
   "execution_count": null,
   "id": "896b297c-ab9d-4990-a206-3339de03c7ab",
   "metadata": {},
   "outputs": [],
   "source": [
    "# Select all numerical columns which have to do with body measurements and transfer them to a separate dataframe\n",
    "penguins_numerical = "
   ]
  },
  {
   "cell_type": "code",
   "execution_count": null,
   "id": "4cc89a88-7192-469f-a917-500f76fe0f13",
   "metadata": {},
   "outputs": [],
   "source": [
    "# Check that it worked by inspecting the first few rows of penguins_numerical\n"
   ]
  },
  {
   "cell_type": "markdown",
   "id": "b8794fa4-4d88-4423-9a6a-27b33738e9b2",
   "metadata": {},
   "source": [
    "### 4.1 Questions\n",
    "Discuss with your neighbor and answer in writing.\n",
    "1. How many penguins were discarded by the data clean-up step which required all features to be present?\n",
    "2. Thinking ahead, why would we need a separate object with numerical measurements only? "
   ]
  },
  {
   "attachments": {},
   "cell_type": "markdown",
   "id": "664a9dd2-eabf-4cc2-a302-3237018aff21",
   "metadata": {},
   "source": [
    "### 5. Data transformations\n",
    "In this section, we will explore some basic statistics of the numerical features and use them to normalize our data. As above, please follow the instructions in the comments. We will standardize each feature to its z-score (https://en.wikipedia.org/wiki/Standard_score) in order to make features comparable across units and orders of magnitude. This is common preprocessing step for numerical data across different data types as otherwise, a feature with high values (say, penguin height in cm) might dominate a feature with low values (say, penguin weight in kg) in downstream analyses. "
   ]
  },
  {
   "cell_type": "code",
   "execution_count": null,
   "id": "eaaa843a-03dc-465d-97d3-fdc7ea688d5b",
   "metadata": {},
   "outputs": [],
   "source": [
    "# Calculate and display the mean of each body measurement\n",
    "penguins_numerical.mean()"
   ]
  },
  {
   "cell_type": "code",
   "execution_count": null,
   "id": "d9b690fe-27d3-4875-a3cb-412405ab7d7b",
   "metadata": {},
   "outputs": [],
   "source": [
    "# Calculate and display the standard deviation of each body measurement\n"
   ]
  },
  {
   "cell_type": "code",
   "execution_count": null,
   "id": "f33abed6-4595-4090-acef-b69abca5f603",
   "metadata": {},
   "outputs": [],
   "source": [
    "# For each value in penguins_numerical, calculate its z-score version in a new dataframe\n",
    "penguins_standardized = "
   ]
  },
  {
   "cell_type": "code",
   "execution_count": null,
   "id": "43e6b92d-e71a-4229-b6d7-f55c183e9570",
   "metadata": {},
   "outputs": [],
   "source": [
    "# Inspect the top rows of the standardized dataframe\n"
   ]
  },
  {
   "cell_type": "code",
   "execution_count": null,
   "id": "66a145aa-34d4-4932-aeab-728a85fc0ab3",
   "metadata": {},
   "outputs": [],
   "source": [
    "# Calculate and display the mean of each body measurement after standardization\n"
   ]
  },
  {
   "cell_type": "code",
   "execution_count": null,
   "id": "4713ef0d-1f1d-4087-bacf-cea448df96bd",
   "metadata": {},
   "outputs": [],
   "source": [
    "# Calculate and display the standard deviation of each body measurement after standardization\n"
   ]
  },
  {
   "cell_type": "markdown",
   "id": "74846628-b4bb-40f6-9736-fbf8a6ba7416",
   "metadata": {},
   "source": [
    "### 5.1 Questions"
   ]
  },
  {
   "cell_type": "markdown",
   "id": "c605ada7-8953-4a94-8ef3-805b69f7c3b0",
   "metadata": {},
   "source": [
    "1. What problem could have arisen had we not removed missing values prior to these calculations?\n",
    "2. After standardization, some of the body measurements are negative. What does a negative standardized bill length mean? What does a flipper length of 0 (after standardization) mean?\n",
    "3. Look at the mean values after standardization. Are they what you would have expected? Why (not)?"
   ]
  },
  {
   "cell_type": "markdown",
   "id": "6119a6d9-3524-4f63-89d3-10f78cdc5966",
   "metadata": {},
   "source": [
    "### 6. Data filtering\n",
    "In this section, we will practice subselecting parts of tabular data, a typical task also in single cell RNA Seq analysis (think: Selecting all hepatocytes, filtering out low quality cells with few sequencing reads etc.). As above, please translate the instructions into code."
   ]
  },
  {
   "cell_type": "code",
   "execution_count": null,
   "id": "e8595c25-270a-4f60-bb77-f1c855fbaed8",
   "metadata": {},
   "outputs": [],
   "source": [
    "# Filter out penguins which are heavier than 4000g\n",
    "large_penguins = "
   ]
  },
  {
   "cell_type": "code",
   "execution_count": null,
   "id": "ca6ff559-6f3a-4f9b-a44f-bea5d1576b42",
   "metadata": {},
   "outputs": [],
   "source": [
    "# Create a dataset which contains only penguins which have shorter than average (i.e. mean) flippers\n",
    "short_flippers = "
   ]
  },
  {
   "cell_type": "code",
   "execution_count": null,
   "id": "571b9ba0-b923-4dfb-8953-82b911e671a4",
   "metadata": {},
   "outputs": [],
   "source": [
    "# Check out the species distribution within the large_penguins group\n",
    "large_penguins['species'].value_counts()"
   ]
  },
  {
   "cell_type": "code",
   "execution_count": null,
   "id": "7dfda83f-01f8-4a3e-9603-fb5918f707a1",
   "metadata": {},
   "outputs": [],
   "source": [
    "# Check out the species distribution within the short_flippers group\n"
   ]
  },
  {
   "cell_type": "markdown",
   "id": "678f08ab-7cc2-4e2b-834f-c4e3e24e1ae6",
   "metadata": {},
   "source": [
    "### 6.1 Questions\n",
    "1. How many penguins have flippers shorter than the mean - more than half of the penguins, less than half of the penguins, or exactly half of the penguins? Which statistical average would have exactly half of the penguins below it? \n",
    "2. Based on the above analysis, what can you say about the three penguins species?"
   ]
  },
  {
   "cell_type": "markdown",
   "id": "35f13667-53b5-4c85-9bbf-f58b3a940b79",
   "metadata": {},
   "source": [
    "### 7. Visualization\n",
    "In this section, we will produce two plots of our data using the plotting package seaborn. The plot types we will be using are called `sns.scatterplot` and `sns.`. As above, translate the comments into code."
   ]
  },
  {
   "cell_type": "code",
   "execution_count": null,
   "id": "bf217ecb-6323-46e9-a5d5-41f07be9cace",
   "metadata": {},
   "outputs": [],
   "source": [
    "# Produce a 2D scatter plot of two numerical features of your choice and colour the points by species.\n",
    "sns.scatterplot(data=penguins_complete, x='flipper_length_mm', y='bill_length_mm', hue='species')"
   ]
  },
  {
   "cell_type": "code",
   "execution_count": null,
   "id": "e28d5a76-f4bd-4f7b-ad23-f99b0c9f3452",
   "metadata": {},
   "outputs": [],
   "source": [
    "# Produce a 2D scatter plot as above, but use the remaining two features and colour the plot according to sex\n"
   ]
  },
  {
   "cell_type": "code",
   "execution_count": null,
   "id": "596d0139-5024-421a-b266-87fa22bd1c17",
   "metadata": {},
   "outputs": [],
   "source": [
    "# Produce a violinplot of body mass by species (bonus points if you manage to split the violin by sex ;-))\n"
   ]
  },
  {
   "cell_type": "markdown",
   "id": "7fd010a5-baa1-410d-ba2a-377185d9c286",
   "metadata": {},
   "source": [
    "### 7.1 Questions\n",
    "1. From the plots above, what can you say about body measurements when comparing male to female penguins?\n",
    "2. If the penguins in the plots above were single cells, what could the different categories be? What could the species category mean in the context of cells, and what could the numerical categories represent?"
   ]
  },
  {
   "cell_type": "code",
   "execution_count": null,
   "id": "c0f1c01c-a38d-4bf1-b306-81e048f0941d",
   "metadata": {},
   "outputs": [],
   "source": [
    "#### The end, well done!"
   ]
  },
  {
   "cell_type": "code",
   "execution_count": null,
   "id": "079da088-dcda-495f-a218-097fcbb5ba5d",
   "metadata": {},
   "outputs": [],
   "source": []
  }
 ],
 "metadata": {
  "kernelspec": {
   "display_name": "Python (strep_lung)",
   "language": "python",
   "name": "strep_lung"
  },
  "language_info": {
   "codemirror_mode": {
    "name": "ipython",
    "version": 3
   },
   "file_extension": ".py",
   "mimetype": "text/x-python",
   "name": "python",
   "nbconvert_exporter": "python",
   "pygments_lexer": "ipython3",
   "version": "3.10.0"
  }
 },
 "nbformat": 4,
 "nbformat_minor": 5
}
