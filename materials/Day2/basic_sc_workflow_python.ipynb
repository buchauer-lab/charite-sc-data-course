{
 "cells": [
  {
   "cell_type": "markdown",
   "id": "d9b46e6e-1b35-4e7e-9a98-24bb72d4c98a",
   "metadata": {},
   "source": [
    "### Exercises: Basic single-cell data analysis workflow \n",
    "In this exercise, we will import an example dataset, perform quality control steps, preprocess it, embed it into lower dimensional space and give cell type labels to clusters of cells."
   ]
  },
  {
   "cell_type": "markdown",
   "id": "342b5476-13d8-473e-a105-f64ca509aaeb",
   "metadata": {},
   "source": [
    "#### Import required packages and data\n",
    "We will use a subset of the 10x Genomics v3 10k PBMC dataset (“10k PBMCs from a Healthy Donor (v3 chemistry)”; https://www.10xgenomics.com/datasets/10-k-pbm-cs-from-a-healthy-donor-v-3-chemistry-3-standard-3-0-0). Cell numbers were reduced while keeping the individual cells’ sequencing depth the same. Only some cell types in the original dataset were kept. A number of empty droplets and low-quality cells are also included.\n",
    "\n",
    "You need to download the dataset from the course github repository (https://github.com/buchauer-lab/charite-sc-data-course/blob/main/materials/Day2/healthy_PBMCs.zip), unzip it, and use the correct path to the data on your system in the import function below."
   ]
  },
  {
   "cell_type": "code",
   "execution_count": null,
   "id": "87805102-8a7f-4473-9bac-a4152764dd2e",
   "metadata": {},
   "outputs": [],
   "source": [
    "# general data handling\n",
    "import numpy as np\n",
    "import pandas as pd\n",
    "from scipy import sparse\n",
    "\n",
    "# single cell analysis\n",
    "import scanpy as sc\n",
    "import decoupler as dc\n",
    "\n",
    "# plotting\n",
    "import matplotlib.pyplot as plt\n",
    "import seaborn as sns"
   ]
  },
  {
   "cell_type": "code",
   "execution_count": null,
   "id": "d55e4b26-e3e3-43b6-a27e-c15fef93c8c5",
   "metadata": {},
   "outputs": [],
   "source": [
    "# adjust the path to the location of the folder \"healthy_PBMCs\" on your system\n",
    "pbmc_data_path = "
   ]
  },
  {
   "cell_type": "code",
   "execution_count": null,
   "id": "1089df03-2291-467b-9f3c-2d6dff4051ae",
   "metadata": {},
   "outputs": [],
   "source": [
    "# import single cell data\n",
    "adata = sc.read_10x_mtx(pbmc_data_path)"
   ]
  },
  {
   "cell_type": "code",
   "execution_count": null,
   "id": "62644598-c7f0-4d00-a623-84a9f0f6e106",
   "metadata": {},
   "outputs": [],
   "source": [
    "# basic information about the object is displayed if you enter 'adata' and execute the cell\n"
   ]
  },
  {
   "cell_type": "code",
   "execution_count": null,
   "id": "1a5b7f2f-587d-4b34-a72d-25d4be68d1cf",
   "metadata": {},
   "outputs": [],
   "source": [
    "# documentation of anndata objects is here https://anndata.readthedocs.io/en/stable/\n",
    "# inspect the count matrix adata.X\n"
   ]
  },
  {
   "cell_type": "code",
   "execution_count": null,
   "id": "b86430be-2bcb-4f95-b43b-2001573b6c1c",
   "metadata": {},
   "outputs": [],
   "source": [
    "# inspect the gene names in adata.var_names\n"
   ]
  },
  {
   "cell_type": "code",
   "execution_count": null,
   "id": "3ff62ff5-ba6c-4a0b-a212-de69fff8bed8",
   "metadata": {},
   "outputs": [],
   "source": [
    "# inspect the cell identifiers in adata.obs_names\n"
   ]
  },
  {
   "cell_type": "markdown",
   "id": "2f3774be-e473-4e01-b3bc-fad2b763d0f2",
   "metadata": {},
   "source": [
    "#### Questions\n",
    "1. How many cells does the object contain? What do the names of the cells represent?\n",
    "2. How many genes have been recorded?"
   ]
  },
  {
   "cell_type": "markdown",
   "id": "13737248-57fa-4626-8819-a23f8de058a0",
   "metadata": {},
   "source": [
    "### Quality control\n",
    "Before getting started, recap with your neighbor what we discussed in the lectures:\n",
    "1. Which kind of quality issues could our data suffer from?\n",
    "2. Which metrics can we inspect to identify problematic cells?  \n",
    "\n",
    "Now, we will begin by calculating the fraction of mitchondrial reads per cell. Mitochondrial gene names start with \"MT-\" for human, a pattern we can use to find the relevant genes."
   ]
  },
  {
   "cell_type": "code",
   "execution_count": null,
   "id": "6afd65fc-bb72-45cc-b7e6-b00c85268070",
   "metadata": {},
   "outputs": [],
   "source": [
    "# we first introduce a flag (True or False) value for each gene indicating whether it is mitochondrial\n",
    "adata.var[\"mt\"] = adata.var_names.str.startswith(\"MT-\")"
   ]
  },
  {
   "cell_type": "code",
   "execution_count": null,
   "id": "e4e1be3d-046a-4b4d-9432-4fc44ee935f8",
   "metadata": {},
   "outputs": [],
   "source": [
    "# use the function sc.pp.calculate_qc_metrics to calculate QC metrics including ones on mitochondrial genes\n",
    "# use flag inplace=True\n"
   ]
  },
  {
   "cell_type": "markdown",
   "id": "02c604cd-583a-4a1c-a2f0-9b7e1d9f225c",
   "metadata": {},
   "source": [
    "Which other QC metrics does the function calculate autoamtically? Visit the documentation to find out."
   ]
  },
  {
   "cell_type": "code",
   "execution_count": null,
   "id": "cd84e47e-9dfe-46a9-b3cd-8c1c9cd2c0cd",
   "metadata": {},
   "outputs": [],
   "source": [
    "# plot violin plots of number of counts per cell, number of genes per cell\n",
    "# and percentage of mitochondrial reads per cell using sc.pl.violin\n",
    "# use flag multi_panel=True to get three separate panels\n"
   ]
  },
  {
   "cell_type": "markdown",
   "id": "118253e7-5483-4371-8e54-8ff1902b4d8a",
   "metadata": {},
   "source": [
    "Discuss the shapes of these distribution with your neighbor. Which features of these distributions are of particular interest? Are there intuitive cut-offs that come to mind? "
   ]
  },
  {
   "cell_type": "code",
   "execution_count": null,
   "id": "ff040e99-55cc-4bfe-a897-429d96e10da7",
   "metadata": {},
   "outputs": [],
   "source": [
    "# inspect if there is a correlation between transcript counts and the number of recorded features\n",
    "# as well as with the mitochondrial percentage\n",
    "# use sc.pl.scatter to show total_counts, n_genes_by_counts and pct_counts_mt in one plot\n",
    "# generate three plots, one with each pair of the three QC metrics on the axes\n"
   ]
  },
  {
   "cell_type": "code",
   "execution_count": null,
   "id": "e922f7ee-3981-4fac-be0d-f57df74f6102",
   "metadata": {},
   "outputs": [],
   "source": [
    "# Run this cell to have a quick look at the Pearson correlation coefficients between the QC metrics\n",
    "qc_metrics = ['total_counts', 'n_genes_by_counts', 'pct_counts_mt']\n",
    "correlation_matrix = adata.obs[qc_metrics].corr()\n",
    "sns.heatmap(correlation_matrix, annot=True, cmap='coolwarm', center=0)\n",
    "plt.title('QC Metrics Correlation Matrix')"
   ]
  },
  {
   "cell_type": "markdown",
   "id": "f65ef4c6-595c-4a8a-96e3-c9b73255e9d1",
   "metadata": {},
   "source": [
    "#### Questions\n",
    "1. Is there a correlation between the number of counts per cell and the number of genes per cell? Why (not)?\n",
    "2. Is there a correlation between the number of recorded genes per cell and the mitochondrial content? Why (not)?\n",
    "3. What can we learn about cells with high mitochondrial content from all the plots we have generated until here?\n",
    "\n",
    "We now need to decide on QC cut-offs for filtering, i.e. values for each of the QC metrics below (or above) which we will discard cells from the dataset. Generally, we advise you to be conservative at this stage in order to prevent losing too many cells. You can always add additional filtering steps later on.   \n",
    "  \n",
    "4. Keeping this advice in mind, decide on the following cut-offs:  \n",
    "- minimum n_genes_by_counts   \n",
    "- maximum n_genes_by_counts  \n",
    "- maximum pct_counts_mt  "
   ]
  },
  {
   "cell_type": "code",
   "execution_count": null,
   "id": "8be934f6-0f1c-413e-b9b6-8aab681c939a",
   "metadata": {},
   "outputs": [],
   "source": [
    "# apply the gene number filters to the data using sc.pp.filter_cells\n",
    "\n",
    "# modify the below funcion to include your mitochondrial cutoff\n",
    "adata = adata[adata.obs.pct_counts_mt < 57]"
   ]
  },
  {
   "cell_type": "code",
   "execution_count": null,
   "id": "8624db33-ca33-43f3-8500-9b78332ae528",
   "metadata": {},
   "outputs": [],
   "source": [
    "# we will also remove genes which appear in less than 5 cells in order to reduce dataset size\n",
    "sc.pp.filter_genes(adata, min_cells=5)"
   ]
  },
  {
   "cell_type": "code",
   "execution_count": null,
   "id": "92317c3b-f5fb-431b-a465-739c814a6ff9",
   "metadata": {},
   "outputs": [],
   "source": [
    "# how many cells did we lose through this filtering?\n"
   ]
  },
  {
   "cell_type": "markdown",
   "id": "9dd17951-7139-41db-b136-856dd61a8d7c",
   "metadata": {},
   "source": [
    "### Normalisation and identification of variable features\n",
    "Following the lecture on data preprocessing, we will now normalize and logarithmize the data and will select highly variable features. We will also explore Pearson's reasiduals and compare the result to lognorm-preprocessing."
   ]
  },
  {
   "cell_type": "code",
   "execution_count": null,
   "id": "dc85d1f3-1a9f-44a5-b48c-44a77b94bf48",
   "metadata": {},
   "outputs": [],
   "source": [
    "# unlike Seurat, which saves intermediate processed data layers per default, \n",
    "# processing steps in scanpy overwrite the orginial data. Therefore, we store\n",
    "# the orginal count data in a separate data layer prior to proceeding\n",
    "adata.layers[\"counts\"] = adata.X.copy()\n",
    "# we will also make a copy to be used in alternative processing with Pearson residuals below\n",
    "adata2 = adata.copy()"
   ]
  },
  {
   "cell_type": "code",
   "execution_count": null,
   "id": "52fb700d-1713-4c7b-a5d5-c1ecaf8fead1",
   "metadata": {},
   "outputs": [],
   "source": [
    "# next, use scanpy's normalize_total to normalize each cell to 10.000 counts\n"
   ]
  },
  {
   "cell_type": "code",
   "execution_count": null,
   "id": "2392c478-5d33-438c-920a-b675a563d4fe",
   "metadata": {},
   "outputs": [],
   "source": [
    "# use scanpy's log1p to log-transform the data\n"
   ]
  },
  {
   "cell_type": "code",
   "execution_count": null,
   "id": "bdc5bd5b-c52e-4b84-a6fe-45291975c5fb",
   "metadata": {},
   "outputs": [],
   "source": [
    "# run scanpy's highly_variable_genes to find the top 2000 variable genes\n"
   ]
  },
  {
   "cell_type": "markdown",
   "id": "be0c3cce-6147-4e6d-895f-587d3613c8bf",
   "metadata": {},
   "source": [
    "### Principal Component Analysis\n",
    "We will calculate the principal components of our data (using the highly variable genes identified above as an input) and then inspect our data in the first few components - a first step towards cell type identification!"
   ]
  },
  {
   "cell_type": "code",
   "execution_count": null,
   "id": "2cf432e9-da43-451a-8d35-43e2cbe5a711",
   "metadata": {},
   "outputs": [],
   "source": [
    "# run scanpys tl pca function on the data\n"
   ]
  },
  {
   "cell_type": "code",
   "execution_count": null,
   "id": "39950621-a37b-4899-b581-f4ca50059615",
   "metadata": {},
   "outputs": [],
   "source": [
    "# use scanpy's plotting function pca_loadings to display the loadings of the  first 3 principal components\n"
   ]
  },
  {
   "cell_type": "code",
   "execution_count": null,
   "id": "98da9789-0111-43d0-bdff-6d62af1a667c",
   "metadata": {},
   "outputs": [],
   "source": [
    "# plot a a 2D scatter plot of the dataset in its first two principal components using \n",
    "# scanpy's pca plot function. Colour the points by log1p_total_counts.\n",
    "# use annotate_var_explained=True\n"
   ]
  },
  {
   "cell_type": "code",
   "execution_count": null,
   "id": "7892d6d9-0b43-4090-bc58-902dbad6ee11",
   "metadata": {},
   "outputs": [],
   "source": [
    "# make the same 2D PCA plot as above, but use the top positive and\n",
    "# negative loading genes for PCs 1 and 2 to colour the dots\n",
    "# (should result in 4 panels, one per gene).\n"
   ]
  },
  {
   "cell_type": "markdown",
   "id": "9e8807fe-603b-4f92-8f8d-2053c390cc26",
   "metadata": {},
   "source": [
    "#### Questions\n",
    "1. How much variability is contained in PC1, PC2 and PC3?\n",
    "2. What is the biological interpretation of genes with positive vs. negative loadings on the same principal component? What does it mean when genes have opposite signs in their PC loadings?\n",
    "3. Using PC1 and PC2 as an example, explain what biological processes or cell states might be represented by the positive vs. negative gene sets.\n",
    "4. Looking at the 2D PCA plot above, there seem to be 3 main groups of cells separated by PCs 1 and 2. Based on the loading information, make an intelligent guess which cell types these might represent (you might search for the relevant genes online or ask a Chatbot of your choice)."
   ]
  },
  {
   "cell_type": "markdown",
   "id": "db37ae29-ac5d-4fe1-93eb-0af07d1b6232",
   "metadata": {},
   "source": [
    "### Alternative preprocessing with Pearson residuals [optional]\n",
    "Pearson residuals, as introduced in the lecture, represent an alternative preprocessing strategy which can provide advantages for the identification of small populations. It is important to note that Pearson residuals _replace_ lognorm transformation and are not be used on top of them. Their computation requires raw counts as an input."
   ]
  },
  {
   "cell_type": "code",
   "execution_count": null,
   "id": "27a9cad2-69d2-42f3-a569-d212d5be617b",
   "metadata": {},
   "outputs": [],
   "source": [
    "# use the unprocessed copy ot the anndata object made above and \n",
    "# transform it using sc.experimental.pp.normalize_pearson_residuals\n",
    "sc.experimental.pp.normalize_pearson_residuals(adata2)"
   ]
  },
  {
   "cell_type": "code",
   "execution_count": null,
   "id": "db78fd43-130a-4514-aeb2-a90667f9cf24",
   "metadata": {},
   "outputs": [],
   "source": [
    "# we will also calculate highly variable genes based on Pearson residuals\n",
    "# of note, this function expects raw counts as input, which we here provide via the corresponding layer\n",
    "sc.experimental.pp.highly_variable_genes(adata2, flavor='pearson_residuals', n_top_genes=2000, layer='counts')"
   ]
  },
  {
   "cell_type": "code",
   "execution_count": null,
   "id": "a4a28af6-7634-4129-9f27-96f66bd48a9a",
   "metadata": {},
   "outputs": [],
   "source": [
    "# calculate a pca for the Pearson transformed dataset\n"
   ]
  },
  {
   "cell_type": "code",
   "execution_count": null,
   "id": "f60cfec8-9eb5-4e74-9d9d-84240817aaa0",
   "metadata": {},
   "outputs": [],
   "source": [
    "# use scanpy's plotting function pca_loadings to display the loadings of the  first 3 principal components\n",
    "sc.pl.pca_loadings(adata2, \n",
    "                   components=[1, 2, 3], \n",
    "                   include_lowest=True\n",
    "    )"
   ]
  },
  {
   "cell_type": "code",
   "execution_count": null,
   "id": "47cc57e0-c0bf-45bc-991e-55cf1cfd11af",
   "metadata": {},
   "outputs": [],
   "source": [
    "# plot a a 2D scatter plot of the dataset in its first two principal components using \n",
    "# scanpy's pca plot function. Colour the points by log1p_total_counts.\n",
    "# use annotate_var_explained=True\n"
   ]
  },
  {
   "cell_type": "code",
   "execution_count": null,
   "id": "c0d1e54b-84ec-431b-b718-007888ff30ab",
   "metadata": {},
   "outputs": [],
   "source": [
    "# make the same 2D PCA plot as above, but use the top positive and\n",
    "# negative loading genes for PCs 1 and 2 to colour the dots\n",
    "# (should result in 4 panels, one per gene).\n"
   ]
  },
  {
   "cell_type": "code",
   "execution_count": null,
   "id": "7d26f8ae-e059-42ce-98f3-ce89f1900a3a",
   "metadata": {},
   "outputs": [],
   "source": [
    "# for a simple comparison, plot the four genes identified above from the Pearson residual analysis\n",
    "# onto the PCA derived from the lognorm approach (i.e. on object adata)\n"
   ]
  },
  {
   "cell_type": "markdown",
   "id": "1a83cda4-5d75-41ff-9918-3d835617c342",
   "metadata": {},
   "source": [
    "The differences between the two normalization methods for our dataset are minor, as is to be expected based on benchmarking work (Ahlmann-Eltze et al., 2023). Interestingly, Pearson residuals here pick up on  ribosomal genes on PC1, a group of genes for which most cells have some expression and the dynamic range in the lognorm approach is not very large (lognormalized expression between 3 and 6). Pearson residuals open up this dynamic range more, resulting in higher weight on PC1. This illustrates how Pearson residues may pick up on more subtle differences compared to standard approaches, but also shows that in most cases (including ours), the extra effort is not necessary."
   ]
  },
  {
   "cell_type": "markdown",
   "id": "ea0ba586-1076-44f1-a2cb-2fcab97bf9b5",
   "metadata": {},
   "source": [
    "### Preliminary cell type exploration\n",
    "The data we are working with contains subtypes of peripheral blood mononuclear cells (some cell types were excluded during the preparation of the example dataset). Find marker genes for potentially included cell types, for example using the Protein Atlas (https://www.proteinatlas.org/humanproteome/immune+cell ), and plot them onto the PCA to check whether they are present."
   ]
  },
  {
   "cell_type": "code",
   "execution_count": null,
   "id": "835d0d14-a15a-4cfa-a797-62e6e313db94",
   "metadata": {},
   "outputs": [],
   "source": [
    "# plot the candidate marker genes you found onto the 2D PCA plot\n"
   ]
  },
  {
   "cell_type": "markdown",
   "id": "962f0abd-5d1a-414c-9559-9dc3d88769dd",
   "metadata": {},
   "source": [
    "### Non-linear dimension reduction and clustering\n",
    "Below, we will further reduce the dimensionality of the data by discarding higher PCs, create a UMAP as an example for a non-linear 2D embedding, and use graph-based clustering for community detection."
   ]
  },
  {
   "cell_type": "code",
   "execution_count": null,
   "id": "28934076-0ebb-47fa-aa6c-1ca80ec554aa",
   "metadata": {},
   "outputs": [],
   "source": [
    "# use the plot function sc.pl.pca_variance_ratio to get a look at\n",
    "# the variance captured by each PC\n",
    "# play with using log=True and log=False\n"
   ]
  },
  {
   "cell_type": "markdown",
   "id": "528c0f51-78b3-4dd6-bc91-c2fb2442904b",
   "metadata": {},
   "source": [
    "#### Questions\n",
    "1. What do we learn from the elbow plot? \n",
    "2. Based on the plots as well as on what was discussed during the lecture, how many PCs would you suggest keeping for downstream steps?"
   ]
  },
  {
   "cell_type": "code",
   "execution_count": null,
   "id": "3cbb2644-3456-4f30-846f-8d1c555c54be",
   "metadata": {},
   "outputs": [],
   "source": [
    "# Graph-based clustering and UMAP calculation need a nearest-neighbor graph\n",
    "# as an input. Calculate the nearest neighbors using scanpy's neighbors function,\n",
    "# and be sure to specify the number of PCs to consider for this step\n"
   ]
  },
  {
   "cell_type": "code",
   "execution_count": null,
   "id": "fc4ea607-8f27-4059-abd1-1c94fa3164c2",
   "metadata": {},
   "outputs": [],
   "source": [
    "# next, we calculate a clustering using the Leiden algorithm\n",
    "# by calling the leiden function.\n"
   ]
  },
  {
   "cell_type": "code",
   "execution_count": null,
   "id": "e4e51a73-61f8-492a-8895-b395365210ec",
   "metadata": {},
   "outputs": [],
   "source": [
    "# calculate a umap embedding using the corresponding scanpy function\n"
   ]
  },
  {
   "cell_type": "code",
   "execution_count": null,
   "id": "7582db55-3640-4ba3-9a4d-54d568f15b69",
   "metadata": {},
   "outputs": [],
   "source": [
    "# plot the UMAP coloured by the Leiden clustering returend above\n"
   ]
  },
  {
   "cell_type": "code",
   "execution_count": null,
   "id": "d31f53ca-af45-484b-a1ea-b9ce166f2b84",
   "metadata": {},
   "outputs": [],
   "source": [
    "# plot the Leiden clustering onto the PCA calculated above\n"
   ]
  },
  {
   "cell_type": "markdown",
   "id": "ef7ce362-2664-43f3-a12c-fa4218914b02",
   "metadata": {},
   "source": [
    "#### Questions\n",
    "1. Please describe the UMAP and PCA plots above. What are the main differences?\n",
    "2. Discuss with your neighbor how you think these differences may arise given that PCA is a linear transformation and UMAP is not, but rather an algorithm optimised to project local similarities in high-dimensional space into 2D."
   ]
  },
  {
   "cell_type": "code",
   "execution_count": null,
   "id": "44905dd8-0643-4a6b-95df-e32603fba489",
   "metadata": {},
   "outputs": [],
   "source": [
    "# the UMAP projection algorithm has stochastic elements meaning\n",
    "# that its outcome depends on random initial assignments of cells. Exlore these random effects\n",
    "# by running and plotting UMAP three times with different random_state values.\n",
    "sc.tl.umap(adata, random_state=1)\n",
    "sc.pl.umap(adata, color='leiden')\n",
    "plt.show()\n"
   ]
  },
  {
   "cell_type": "code",
   "execution_count": null,
   "id": "990a15f3-eb32-4518-93d8-bb9e30c99dde",
   "metadata": {},
   "outputs": [],
   "source": [
    "# An important parameter of Leiden clustering is resolution. Run the clustering three\n",
    "# times with different resolutions and plot the results. You can store each clustering\n",
    "# outcome by using different name tags using key_added='leiden_res1.0' or similar\n",
    "sc.tl.leiden(adata, resolution=0.5, key_added='leiden_res0.5')\n"
   ]
  },
  {
   "cell_type": "markdown",
   "id": "64235d86-a501-4570-aded-daf52e37c3bb",
   "metadata": {},
   "source": [
    "#### Questions\n",
    "1. Which UMAP would you chose for publication?\n",
    "2. What happens as you change the resolution parameter? With which resolution whould you proceed for further investigation?"
   ]
  },
  {
   "cell_type": "code",
   "execution_count": null,
   "id": "3e2c0e74-21d8-46fc-857a-edc77a16fd46",
   "metadata": {},
   "outputs": [],
   "source": [
    "# plot the QC metrics discussed above onto a UMAP plot with 4 panels,\n",
    "# the fourth showing the clustering in the resolution you intend to\n",
    "# proceed with\n"
   ]
  },
  {
   "cell_type": "markdown",
   "id": "1653ecf1-b031-4dd0-b39c-62a849d9fddf",
   "metadata": {},
   "source": [
    "### Marker gene calculation and bottom-up cell type annotation\n",
    "We will now calculate genes characteristic for each cluster (marker genes) and use them to identify the cell types in our dataset. We will also explore an automed cell type annotation method and compare the results."
   ]
  },
  {
   "cell_type": "code",
   "execution_count": null,
   "id": "858b3a3a-ae93-4359-933b-00e748f031c7",
   "metadata": {},
   "outputs": [],
   "source": [
    "# for annotation purposes, select a clustering resolution to continue working with\n",
    "# then, run marker gene calculations with the rank_genes_groups function\n"
   ]
  },
  {
   "cell_type": "code",
   "execution_count": null,
   "id": "c698b134-e507-4664-88f2-7892b16f80d1",
   "metadata": {},
   "outputs": [],
   "source": [
    "# first, have a look at the top marker genes associated with each cluster\n",
    "# using the plot function rank_genes_groups\n"
   ]
  },
  {
   "cell_type": "code",
   "execution_count": null,
   "id": "ff827f8c-68f2-40c1-8cda-f3c73794e508",
   "metadata": {},
   "outputs": [],
   "source": [
    "# you can inspect each groups marker genes using a get function\n",
    "# as shown below, and by entering the group name you are interested in\n",
    "sc.get.rank_genes_groups_df(adata, group='0')"
   ]
  },
  {
   "cell_type": "code",
   "execution_count": null,
   "id": "7436170d-1ad4-4b36-8e05-56298b2b758b",
   "metadata": {},
   "outputs": [],
   "source": [
    "# now, we visualize the top 5 differentially expressed genes per cluster as a dotplot\n",
    "# using rank_genes_groups_dotplot\n",
    "# the function automatically calculates and plots a dendrogram showing similarity between\n",
    "# cell types\n"
   ]
  },
  {
   "cell_type": "code",
   "execution_count": null,
   "id": "2e45676b-4e3d-47cc-9139-209969a97bc0",
   "metadata": {},
   "outputs": [],
   "source": [
    "# scanpy offers other types of plots for marker gene analysis. Have a look at the\n",
    "# corresponding documentation and try another 1-2 types of plots, e.g. the tracksplot,\n",
    "# which helps you visualize expression across individual cells\n",
    "# https://scanpy-tutorials.readthedocs.io/en/multiomics/visualizing-marker-genes.html\n"
   ]
  },
  {
   "cell_type": "markdown",
   "id": "c7722925-3f21-43d5-a563-b14c82f0bb22",
   "metadata": {},
   "source": [
    "#### Questions\n",
    "1. What do positive and negative fold changes in the marker gene table mean?\n",
    "2. Why is there a p-value and an adjusted p-value?\n",
    "3. What does the dendrogramm on the side of the dot plot tell us? Are there any pairs of clusters which seem very similar to each other based on the dendrogramm?\n",
    "4. Use the marker genes derived for each group and the human protein atlas (https://www.proteinatlas.org/humanproteome/immune+cell) or other resources of your choice to give cell type labels to each cluster."
   ]
  },
  {
   "cell_type": "code",
   "execution_count": null,
   "id": "0ea5f952-50e3-4830-b93f-ecdd2ecf1af8",
   "metadata": {},
   "outputs": [],
   "source": [
    "# if there are clusters for which you are not sure yet, it can help to compare them\n",
    "# to a neighboring population specifically using rank_genes_groups with the additional\n",
    "# keys groups=['0', '1'], reference='2' which would compare groups 0 and 1 to group 2\n"
   ]
  },
  {
   "cell_type": "markdown",
   "id": "54069160-4d1b-4af8-a35a-b0af797a06ec",
   "metadata": {},
   "source": [
    "#### Cell-type annotation using marker gene lists (from literature)\n",
    "Typically, you know which tissue you are analysing and can also find annoated datasets of the same type or even published marker gene lists for your tissue. You can use these to help you annotate your cell types. Search the web for a few marker genes for each of the cell types below and plot these for your clusters."
   ]
  },
  {
   "cell_type": "code",
   "execution_count": null,
   "id": "47fd0801-d3b8-4bd9-85ce-c7e66dd5d282",
   "metadata": {},
   "outputs": [],
   "source": [
    "PBMC_marker_genes = {\n",
    "    \"Classical Monocytes\": [\"gene1\", \"gene2\"],\n",
    "    \"B cells\": [],\n",
    "    \"CD4+ T\": [],\n",
    "    \"CD8+ T\": []}"
   ]
  },
  {
   "cell_type": "code",
   "execution_count": null,
   "id": "f64b832c-b89b-481c-a637-572137de9e86",
   "metadata": {},
   "outputs": [],
   "source": [
    "# visualize these genes using the scanpy function dotplot\n"
   ]
  },
  {
   "cell_type": "code",
   "execution_count": null,
   "id": "e2110fa3-835f-4f69-b41b-976b7eaddc05",
   "metadata": {},
   "outputs": [],
   "source": [
    "# you can also visualise these markers onto your umap, try it with a few genes\n",
    "# next to the clustering\n"
   ]
  },
  {
   "cell_type": "code",
   "execution_count": null,
   "id": "ee91378b-5081-4477-aa61-3115bbbc08d7",
   "metadata": {},
   "outputs": [],
   "source": [
    "# based on the two annotation approaches above, give a cell type label to every cluster.\n",
    "# fill the dictionary below according to your needs\n",
    "mapping_dict = {\n",
    "    '0': 'strawberries',\n",
    "    '1': 'blackberries', \n",
    "    '2': 'raisins',\n",
    "    '3': 'smarties',\n",
    "    '4': 'bertie botts \\n beans',\n",
    "    '5': 'MAOAM',\n",
    "    '6': 'gummi bears',\n",
    "    '7': 'blueberries',\n",
    "    '8': 'raspberries',\n",
    "    '9': 'grapes'\n",
    "}\n",
    "adata.obs['cell_type'] = adata.obs['leiden_res1'].map(mapping_dict).astype('category')"
   ]
  },
  {
   "cell_type": "code",
   "execution_count": null,
   "id": "459f95c9-741b-47e7-858a-dcf963f4515f",
   "metadata": {},
   "outputs": [],
   "source": [
    "# plot a umap with cell type labels on top of each cluster\n"
   ]
  },
  {
   "cell_type": "markdown",
   "id": "23d1a826-f1c8-48b9-826d-c11418fadcbd",
   "metadata": {},
   "source": [
    "#### Questions\n",
    "1. Did your chosen clustering resolution make sense? Were there some clusters which you would combine (annotate with the same label), or, conversely, clusters which you would like to split and analyse in more depth?"
   ]
  },
  {
   "cell_type": "markdown",
   "id": "a9de999e-998f-42dc-86b8-c897da9c48bf",
   "metadata": {},
   "source": [
    "### Automated cell type annotation\n",
    "There are several packages available for automated cell type annotation. One option is `celltypist` which comes as a as a python package, command line tool or webservice https://www.celltypist.org/. Online analysis accepts a .csv file, which contains an expression matrix with cells as rows and gene symbols as columns (or the opposite). A raw count matrix is expected. We will generate the file, upload it, and compare their results to ours in this section."
   ]
  },
  {
   "cell_type": "code",
   "execution_count": null,
   "id": "baf870d2-37de-40f0-86f3-34f664cd761b",
   "metadata": {},
   "outputs": [],
   "source": [
    "# we will first put the required data into a dataframe and then export to csv\n",
    "celltypist_df = pd.DataFrame(data=adata.layers['counts'].todense(), index=adata.obs_names, columns=adata.var_names)\n",
    "celltypist_df.to_csv('celltypist_input.csv')"
   ]
  },
  {
   "cell_type": "markdown",
   "id": "7e5405b3-69df-4349-a42e-751c048657ea",
   "metadata": {},
   "source": [
    "Now, please go to the celltypist website and upload your file (should be around 100MB), hopefully the WiFi will be with us on this. After submitting the query, you will receive an email when the results are availabel for download (typically quite fast). In case you encounter problems with the data upload, you can also take pre-generated celltypist results in the `materials/Day3`section of the course github."
   ]
  },
  {
   "cell_type": "code",
   "execution_count": null,
   "id": "0294207e-527f-4da6-be2e-64130aa832ed",
   "metadata": {},
   "outputs": [],
   "source": [
    "# import the results and match them to the dataframe\n",
    "celltypist_results = pd.read_csv('../Day3/celltypist_predicted_labels.csv', index_col=0)\n",
    "# inspect :)\n",
    "celltypist_results"
   ]
  },
  {
   "cell_type": "code",
   "execution_count": null,
   "id": "6671146c-29da-48b2-b91c-8d74f60f9dad",
   "metadata": {},
   "outputs": [],
   "source": [
    "# add the results to the anndata object\n"
   ]
  },
  {
   "cell_type": "code",
   "execution_count": null,
   "id": "f6422715-b23b-4774-ba13-6fb655de98f0",
   "metadata": {},
   "outputs": [],
   "source": [
    "# plot two UMAPS, one with your annotation and the other with the celltypist label as a color code\n"
   ]
  },
  {
   "cell_type": "markdown",
   "id": "8a7b3024-4ac4-4b3c-b9a2-26e92cd88957",
   "metadata": {},
   "source": [
    "#### Questions\n",
    "1. How does your annotation compare to celltypist? Are there any differences? Who is right?\n",
    "2. What is the difference between celltypist outputs 'predicted_labels' and 'majority_voting'?\n",
    "3. There seem to be two populations each of naive and memory B cells. What is the difference between them?\n",
    "4. If you have the time, run the processing steps neighbors/leiden/umap on the object normalized with Pearson residuals (adata2). Does the split still appear? Which data analysis strategy is better?"
   ]
  },
  {
   "cell_type": "code",
   "execution_count": null,
   "id": "a0e6f126-3d35-4d0c-a7c1-aa1525d880b5",
   "metadata": {},
   "outputs": [],
   "source": []
  }
 ],
 "metadata": {
  "kernelspec": {
   "display_name": "Python 3 (ipykernel)",
   "language": "python",
   "name": "python3"
  },
  "language_info": {
   "codemirror_mode": {
    "name": "ipython",
    "version": 3
   },
   "file_extension": ".py",
   "mimetype": "text/x-python",
   "name": "python",
   "nbconvert_exporter": "python",
   "pygments_lexer": "ipython3",
   "version": "3.10.18"
  }
 },
 "nbformat": 4,
 "nbformat_minor": 5
}
