{
 "cells": [
  {
   "cell_type": "markdown",
   "id": "d9b46e6e-1b35-4e7e-9a98-24bb72d4c98a",
   "metadata": {},
   "source": [
    "### Exercise: Stressed Cells\n",
    "Sample preparation can lead to artificial changes in the transcriptome of live cells, based on their reaction to the the changes in environment, temperature fluctuations, loss of niche signalling etc. This is an important confounding factor to keep in mind when analysing your data.\n",
    "\n",
    "This exercise uses the same data set as the basic workflow exercise (reduced PBMC object).\n",
    "\n",
    "Research which (groups of) genes are known to be upregulated during sample preparation in PBMCs."
   ]
  },
  {
   "cell_type": "markdown",
   "id": "342b5476-13d8-473e-a105-f64ca509aaeb",
   "metadata": {},
   "source": [
    "#### Import required packages and data\n",
    "We will import the processed and annotated object that we generated before."
   ]
  },
  {
   "cell_type": "code",
   "execution_count": null,
   "id": "87805102-8a7f-4473-9bac-a4152764dd2e",
   "metadata": {},
   "outputs": [],
   "source": [
    "# general data handling\n",
    "import numpy as np\n",
    "import pandas as pd\n",
    "from scipy import sparse\n",
    "\n",
    "# single cell analysis\n",
    "import scanpy as sc\n",
    "import decoupler as dc\n",
    "\n",
    "# plotting\n",
    "import matplotlib.pyplot as plt\n",
    "import seaborn as sns"
   ]
  },
  {
   "cell_type": "code",
   "execution_count": null,
   "id": "d55e4b26-e3e3-43b6-a27e-c15fef93c8c5",
   "metadata": {},
   "outputs": [],
   "source": [
    "# import the annotated object\n",
    "adata = "
   ]
  },
  {
   "cell_type": "code",
   "execution_count": null,
   "id": "62644598-c7f0-4d00-a623-84a9f0f6e106",
   "metadata": {},
   "outputs": [],
   "source": [
    "# basic information about the object is displayed if you enter 'adata' and execute the cell\n"
   ]
  },
  {
   "cell_type": "code",
   "execution_count": null,
   "id": "b86430be-2bcb-4f95-b43b-2001573b6c1c",
   "metadata": {},
   "outputs": [],
   "source": [
    "# get an object of type list of all gene names in the dataset\n",
    "gene_list = "
   ]
  },
  {
   "cell_type": "code",
   "execution_count": null,
   "id": "3ff62ff5-ba6c-4a0b-a212-de69fff8bed8",
   "metadata": {},
   "outputs": [],
   "source": [
    "# research a few groups of genes that are associated with stress response,\n",
    "# one example are FOS family genes. Extract each such family into a list as shown \n",
    "# in the example.\n",
    "fos_genes = [gene for gene in gene_list if 'FOS' in gene]\n"
   ]
  },
  {
   "cell_type": "code",
   "execution_count": null,
   "id": "fb5c848d-bbed-462e-828b-a6bcf1b02934",
   "metadata": {},
   "outputs": [],
   "source": [
    "# inspect these lists, and combine them into a master list stressed_genes\n",
    "# lists can be combined using the + symbol\n",
    "print(fos_genes)\n",
    "\n",
    "stress_genes = fos_genes + "
   ]
  },
  {
   "cell_type": "code",
   "execution_count": null,
   "id": "019aada5-1a55-401f-bf79-76213c4cf412",
   "metadata": {},
   "outputs": [],
   "source": [
    "# now, we will add a column to the adata.obs dataframe indicating whether a gene is a stress response gene\n",
    "adata.var[\"stress\"] = adata.var_names.isin(stress_genes)"
   ]
  },
  {
   "cell_type": "code",
   "execution_count": null,
   "id": "93a673b8-060e-4537-987d-bd5759691b82",
   "metadata": {},
   "outputs": [],
   "source": [
    "# we can now use this stress tag in the calculate qc metrics step\n",
    "# use the function calculate_qc_metrics as before for mitochondrial genes,\n",
    "# but specify that layer='counts' needs to be used for calculations\n",
    "# here, since the data in adata.X has been processed\n"
   ]
  },
  {
   "cell_type": "code",
   "execution_count": null,
   "id": "9e1eb049-6b4e-4e99-9812-b738ea7fd3ea",
   "metadata": {},
   "outputs": [],
   "source": [
    "# check which items have been added to adata.obs by inspecting it\n"
   ]
  },
  {
   "cell_type": "code",
   "execution_count": null,
   "id": "c4bcf957-6f45-4da5-9f9b-bc8f5ef2da08",
   "metadata": {
    "scrolled": true
   },
   "outputs": [],
   "source": [
    "# use scanpy's violin plot to plot the percentage of stresse gene reads per cell type\n"
   ]
  },
  {
   "cell_type": "code",
   "execution_count": null,
   "id": "cff79b5a-7eba-406f-bb3b-ed795955f46c",
   "metadata": {},
   "outputs": [],
   "source": [
    "# below, we have prepared a loop for you which goes through each\n",
    "# population in the cell_type column, subsets the anndata object\n",
    "# to that population and calculates a correlation between the percentages\n",
    "# of stressed counts and mitochondrial counts\n",
    "# please explain to yourself what each line of code does, and then\n",
    "# add a scatter plot at the end of the loop as described below\n",
    "for ct in adata.obs['cell_type'].cat.categories:\n",
    "    # Subset data for this cell type\n",
    "    adata_sub = adata[adata.obs['cell_type'] == ct]\n",
    "    \n",
    "    # Calculate correlation\n",
    "    corr = adata_sub.obs[['pct_counts_stress', 'pct_counts_mt']].corr().iloc[0, 1]\n",
    "    \n",
    "    # Plot scatter for this cell type using scanpy's scatter plot function,\n",
    "    # include the celltype name and the Pearson correlation calculated above (corr)\n",
    "    # in the title by using f strings and the function's title parameter\n"
   ]
  },
  {
   "cell_type": "markdown",
   "id": "920fc02b-4c10-424c-bcb0-c878e7a66a18",
   "metadata": {},
   "source": [
    "#### Questions\n",
    "1. Does the stress count percentage correlate with mitochondrial read content? What could a correlation imply? What could no correlation imply?\n",
    "2. Is it a viable strategy to remove these genes entirely from the count matrix or is there an argument against doing that? Discuss.\n"
   ]
  },
  {
   "cell_type": "code",
   "execution_count": null,
   "id": "f55b75ab-7c67-40c2-a932-a0e3c19234d9",
   "metadata": {},
   "outputs": [],
   "source": []
  }
 ],
 "metadata": {
  "kernelspec": {
   "display_name": "Python 3 (ipykernel)",
   "language": "python",
   "name": "python3"
  },
  "language_info": {
   "codemirror_mode": {
    "name": "ipython",
    "version": 3
   },
   "file_extension": ".py",
   "mimetype": "text/x-python",
   "name": "python",
   "nbconvert_exporter": "python",
   "pygments_lexer": "ipython3",
   "version": "3.10.18"
  }
 },
 "nbformat": 4,
 "nbformat_minor": 5
}
