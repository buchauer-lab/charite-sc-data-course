{
 "cells": [
  {
   "cell_type": "markdown",
   "id": "d9b46e6e-1b35-4e7e-9a98-24bb72d4c98a",
   "metadata": {},
   "source": [
    "### Exercise: Differential Gene Expression Analysis\n",
    "In this exercise, we will calculate and analyse differentially expressed genes between two different conditions of in vitro stimulated PBMCs."
   ]
  },
  {
   "cell_type": "markdown",
   "id": "342b5476-13d8-473e-a105-f64ca509aaeb",
   "metadata": {},
   "source": [
    "#### Import required packages and data\n",
    "Following sc-best-practices (https://www.sc-best-practices.org/conditions/differential_gene_expression.html), we will use the Kang dataset, which is a 10x droplet-based scRNA-seq peripheral blood mononuclear cell (PBMC) data from 8 Lupus patients before and after 6h-treatment with INF-β (16 samples in total) (Kang et al., 2018).\n",
    "\n",
    "You need to download the dataset from the course github repository (https://github.com/buchauer-lab/charite-sc-data-course/tree/main/materials/Day4), unzip it, and use the correct path to the data on your system in the import function below."
   ]
  },
  {
   "cell_type": "code",
   "execution_count": null,
   "id": "87805102-8a7f-4473-9bac-a4152764dd2e",
   "metadata": {},
   "outputs": [],
   "source": [
    "# general data handling\n",
    "import numpy as np\n",
    "import pandas as pd\n",
    "from scipy import sparse\n",
    "\n",
    "# single cell analysis\n",
    "import scanpy as sc\n",
    "import decoupler as dc\n",
    "\n",
    "# differential expression testing\n",
    "from pydeseq2.dds import DeseqDataSet\n",
    "from pydeseq2.default_inference import DefaultInference\n",
    "from pydeseq2.ds import DeseqStats\n",
    "\n",
    "# plotting\n",
    "import matplotlib.pyplot as plt\n",
    "import seaborn as sns"
   ]
  },
  {
   "cell_type": "code",
   "execution_count": null,
   "id": "d55e4b26-e3e3-43b6-a27e-c15fef93c8c5",
   "metadata": {},
   "outputs": [],
   "source": [
    "# adjust the path to the location of the folder \"Kang2018\" on your system\n",
    "kang_data_path = "
   ]
  },
  {
   "cell_type": "code",
   "execution_count": null,
   "id": "1089df03-2291-467b-9f3c-2d6dff4051ae",
   "metadata": {},
   "outputs": [],
   "source": [
    "# import single cell data using sc.read_10x_mtx\n",
    "adata = "
   ]
  },
  {
   "cell_type": "code",
   "execution_count": null,
   "id": "62644598-c7f0-4d00-a623-84a9f0f6e106",
   "metadata": {},
   "outputs": [],
   "source": [
    "# inspect\n"
   ]
  },
  {
   "cell_type": "code",
   "execution_count": null,
   "id": "2c1f01e9-47cb-467f-a4ca-66784aa364f5",
   "metadata": {},
   "outputs": [],
   "source": [
    "# import meta data\n",
    "metadata_df = "
   ]
  },
  {
   "cell_type": "code",
   "execution_count": null,
   "id": "68840b66-847e-475b-b9fd-3b485cd4e240",
   "metadata": {},
   "outputs": [],
   "source": [
    "# inspect the metadata\n"
   ]
  },
  {
   "cell_type": "code",
   "execution_count": null,
   "id": "fda47e62-8d79-455d-a4d7-e11e0ac8501d",
   "metadata": {},
   "outputs": [],
   "source": [
    "# add metadata to adata.obs using the .join method\n"
   ]
  },
  {
   "cell_type": "code",
   "execution_count": null,
   "id": "badc4e1c-0794-4c0a-a132-36dbe8611274",
   "metadata": {},
   "outputs": [],
   "source": [
    "# inspect adata.obs to ensure everything worked\n"
   ]
  },
  {
   "cell_type": "code",
   "execution_count": null,
   "id": "d38c1a21-b9b0-4f5e-8b99-9bb5f2e9f62e",
   "metadata": {},
   "outputs": [],
   "source": [
    "# print the different cell type labels which appear here to screen\n",
    "adata.obs['cell_type'].unique()"
   ]
  },
  {
   "cell_type": "code",
   "execution_count": null,
   "id": "3352d9dd-48b7-4ea7-b818-5da1fa411994",
   "metadata": {},
   "outputs": [],
   "source": [
    "# print the patient identifiers\n"
   ]
  },
  {
   "cell_type": "code",
   "execution_count": null,
   "id": "0783d938-03df-43c8-a5c2-69778580c447",
   "metadata": {},
   "outputs": [],
   "source": [
    "# print the different conditions, here called 'label'\n"
   ]
  },
  {
   "cell_type": "markdown",
   "id": "828a7fca-f9ca-4682-8c9c-a1dbcf015e63",
   "metadata": {},
   "source": [
    "#### Data preparation\n",
    "We will perform a very basic quality control and calculate pseudobulks for each patient which we will need for differential expression analysis with pyDESeq2.\n"
   ]
  },
  {
   "cell_type": "code",
   "execution_count": null,
   "id": "24f1154c-4431-4d94-9928-a9a1a6e882bf",
   "metadata": {},
   "outputs": [],
   "source": [
    "# use scanpy's filter_cells and filter_genes functions to remove cells with \n",
    "# less than 200 genes and genes which appear in less than 3 cells\n"
   ]
  },
  {
   "cell_type": "code",
   "execution_count": null,
   "id": "12b8962d-fc1d-468c-801c-cd79d808d049",
   "metadata": {},
   "outputs": [],
   "source": [
    "# next, we need to introduce a column that holds the sample information, in our case a combination of \"replicate\" and \"label\"\n",
    "adata.obs['sample'] = adata.obs['replicate'] + '_' + adata.obs['label']"
   ]
  },
  {
   "cell_type": "markdown",
   "id": "d56d503c-b7a6-47c6-aaa5-58ff56fa7732",
   "metadata": {},
   "source": [
    "In order to create pseudobulks (gene expression vectors per sample, generated by summing up all single cell expression vectos of a given cell type in that sample), we will use functionality from `decopupler`."
   ]
  },
  {
   "cell_type": "code",
   "execution_count": null,
   "id": "b3029a02-92d2-4ab1-bc9e-6a48359604e7",
   "metadata": {},
   "outputs": [],
   "source": [
    "# use the decoupler function dc.pp.pseudobulk to generate an anndata object of pseudobulks\n",
    "# use mode='sum' to create pseudobulks by summing\n",
    "pb_data = "
   ]
  },
  {
   "cell_type": "code",
   "execution_count": null,
   "id": "064c3b94-830c-42c9-9185-a140503fe14f",
   "metadata": {},
   "outputs": [],
   "source": [
    "# inspect the object - how many observations are in there now? Is this according to your expectation?\n"
   ]
  },
  {
   "cell_type": "code",
   "execution_count": null,
   "id": "d95b983f-edbc-41ac-85a7-58cd5ee377ee",
   "metadata": {},
   "outputs": [],
   "source": [
    "# inspect the metadata in the obs dataframe\n"
   ]
  },
  {
   "cell_type": "code",
   "execution_count": null,
   "id": "318517cc-d28b-4edc-9a96-b458ee458191",
   "metadata": {},
   "outputs": [],
   "source": [
    "# now, we want to remove pseudobulks which do not have at least 30 cells or 3000 counts\n",
    "# use the function dc.pp.filter_samples to accomplish this\n"
   ]
  },
  {
   "cell_type": "markdown",
   "id": "1d8645c9-b80d-4ebd-beb0-5976010acb79",
   "metadata": {},
   "source": [
    "#### Basic analysis of the pseudobulked data objects\n",
    "In differential expression testing, defining the right statistical model is very important. In order to identify the covariates which drive differences in our dataset (these are the covariates we should include in our model), we use scanpy to calculate a PCA for the pseudobulked data and inspect a series of PCA plots coloured by covariates."
   ]
  },
  {
   "cell_type": "code",
   "execution_count": null,
   "id": "43a97ce0-2175-4497-a747-7c88e4375fd5",
   "metadata": {},
   "outputs": [],
   "source": [
    "# we make a copy of the data object above as we will lognormalize it for calculating the PCA\n",
    "pb_copy = pb_data.copy()"
   ]
  },
  {
   "cell_type": "code",
   "execution_count": null,
   "id": "2b97e15a-6933-4ab2-bb56-1bc54256a73d",
   "metadata": {},
   "outputs": [],
   "source": [
    "# the .obs metadata contains a column psbulk_counts with count sums, add a column which contains the np.log of this\n",
    "pb_copy.obs['log_psbulk_counts'] = np.log(pb_copy.obs['psbulk_counts'])"
   ]
  },
  {
   "cell_type": "code",
   "execution_count": null,
   "id": "873f41ca-dd55-4481-993d-550d5bd880f8",
   "metadata": {},
   "outputs": [],
   "source": [
    "# as you would for single cell data, perform the following steps using scanpy functions:\n",
    "# 1. normalize total counts to a target sum 1e6\n",
    "# 2. log1p transform the data\n",
    "# 3. calculate a PCA\n"
   ]
  },
  {
   "cell_type": "code",
   "execution_count": null,
   "id": "8fee104f-2ed7-4461-af55-27d2bfde7cc2",
   "metadata": {},
   "outputs": [],
   "source": [
    "# plot PCA plots coloured by label, cell_type, replicate, log_lib_size\n"
   ]
  },
  {
   "cell_type": "markdown",
   "id": "9d9d4f58-6534-420c-85c3-9c49ebf46119",
   "metadata": {},
   "source": [
    "Which of the above covariates seem to be strongly driving variance in PC1  or PC2? Discuss."
   ]
  },
  {
   "cell_type": "markdown",
   "id": "5372c678-1fd9-405c-8526-e026f15dedd6",
   "metadata": {},
   "source": [
    "#### Differential expression analysis with PyDESeq2\n",
    "We will now use the pseudobulked data of monocytes only for differential expression testing. We first need to get the data into the right format - PyDESeq2 expects a pandas dataframe of the gene expression data as well as of the metadata."
   ]
  },
  {
   "cell_type": "code",
   "execution_count": null,
   "id": "3b9d231b-4a63-4aa4-b872-07196884ba3c",
   "metadata": {},
   "outputs": [],
   "source": [
    "# First, subset the pseudobulked anndata object to only the monoyte populations.\n",
    "mono_pb = pb_data[pb_data.obs['cell_type']=='CD14+ Monocytes']"
   ]
  },
  {
   "cell_type": "code",
   "execution_count": null,
   "id": "b5ebff87-5cc2-4366-9ca9-b572f490c4c3",
   "metadata": {},
   "outputs": [],
   "source": [
    "# Next, we want to remove genes for which we do not expect relevant results\n",
    "# Discuss with your neighbor why we want to reduce the number of genes for which we \n",
    "# perform differential expression testing.\n",
    "# we want to remove all genes for which we do not see at least 15 counts in total\n",
    "# use dc.pp.filter_by_expr to accomplish this\n",
    "\n",
    "\n",
    "# we want to retain only genes which are present in at least 10% of cells in at least 3 samples\n",
    "# use dc.pp.filter_prop to accomplish this\n"
   ]
  },
  {
   "cell_type": "markdown",
   "id": "c390e49b-585a-41f5-90ca-21202aa3cdd9",
   "metadata": {},
   "source": [
    "How many genes did we lose through this filtering?"
   ]
  },
  {
   "cell_type": "code",
   "execution_count": null,
   "id": "efd166bd-fbec-4c8c-aea5-00dc1f8d3fda",
   "metadata": {},
   "outputs": [],
   "source": [
    "# Let's make a dataframe of the counts\n",
    "counts_df = pd.DataFrame(data=mono_pb.X, index=mono_pb.obs.index, columns=mono_pb.var.index)"
   ]
  },
  {
   "cell_type": "code",
   "execution_count": null,
   "id": "73395f41-0e92-4c85-a02e-2e6f38cb249e",
   "metadata": {},
   "outputs": [],
   "source": [
    "# Insepct, always inspect...\n"
   ]
  },
  {
   "cell_type": "code",
   "execution_count": null,
   "id": "ce8c9509-3fd1-4a1c-af25-861346f05fc8",
   "metadata": {},
   "outputs": [],
   "source": [
    "# We also need the metadata in a corresponding format with sample as index\n",
    "metadata_df = mono_pb.obs"
   ]
  },
  {
   "cell_type": "code",
   "execution_count": null,
   "id": "46dd653b-319b-4b36-975f-6bdd1f4c5011",
   "metadata": {},
   "outputs": [],
   "source": [
    "# Inspect!\n"
   ]
  },
  {
   "cell_type": "markdown",
   "id": "53eed7ef-9fda-4980-98ed-b6a6addb4dfe",
   "metadata": {},
   "source": [
    "#### Now for the actual differential expression testing!\n",
    "The steps below follow the PyDESeq2 tutorial at https://pydeseq2.readthedocs.io/en/stable/auto_examples/plot_minimal_pydeseq2_pipeline.html#sphx-glr-auto-examples-plot-minimal-pydeseq2-pipeline-py which you can visit for further info.\n",
    "The important part below is the definition of the design matrix, i.e. which covariate we expect the gene expression to depend on. In our case, this is the metadata entry \"label\" which represents the conditions control vs. stimulated."
   ]
  },
  {
   "cell_type": "code",
   "execution_count": null,
   "id": "b62dcb3e-e9d3-4168-9a00-c261a1d08774",
   "metadata": {},
   "outputs": [],
   "source": [
    "# First step - initialize a DeSeqDataSet, the object which holds our data and later on also the results\n",
    "inference = DefaultInference(n_cpus=None)\n",
    "dds = DeseqDataSet(\n",
    "    counts=counts_df,\n",
    "    metadata=metadata_df,\n",
    "    design=\"~label\",\n",
    "    refit_cooks=True,\n",
    "    inference=inference,\n",
    ")"
   ]
  },
  {
   "cell_type": "code",
   "execution_count": null,
   "id": "5fca01fe-b544-444a-a269-2c9f14589357",
   "metadata": {},
   "outputs": [],
   "source": [
    "# Second step - fitting dispersions, size factors etc for each gene\n",
    "dds.deseq2()"
   ]
  },
  {
   "cell_type": "code",
   "execution_count": null,
   "id": "c35d75f5-028c-4d76-be58-ff9830ec0e1c",
   "metadata": {},
   "outputs": [],
   "source": [
    "# Never hurts to inspect the object (actually, dds objects use AnnData as a backbone!)\n",
    "dds"
   ]
  },
  {
   "cell_type": "code",
   "execution_count": null,
   "id": "d7ef7fd4-0a0c-4611-8559-d032d0dc104a",
   "metadata": {},
   "outputs": [],
   "source": [
    "# We can use anndata-like calls to inspect fitted dispersions and log fold changes:\n",
    "print(dds.var[\"dispersions\"])\n",
    "print(dds.varm[\"LFC\"])"
   ]
  },
  {
   "cell_type": "code",
   "execution_count": null,
   "id": "c59358de-0453-4419-be84-882d17b637de",
   "metadata": {},
   "outputs": [],
   "source": [
    "# Third step - no we use the fitted dispersions and LFCs to do actual statistical tests.\n",
    "# For this, a new class is introduced: DeSeqStats objects.\n",
    "ds = DeseqStats(dds, contrast=[\"label\", \"ctrl\", \"stim\"], inference=inference)"
   ]
  },
  {
   "cell_type": "code",
   "execution_count": null,
   "id": "47dabf10-adb2-48e0-bc4e-d3e2cf856fee",
   "metadata": {},
   "outputs": [],
   "source": [
    "# using this object, a Wald test can be run and results displayed like this:\n",
    "ds.summary()"
   ]
  },
  {
   "cell_type": "markdown",
   "id": "b80c4efb-b110-424a-9199-a8ae13e9956c",
   "metadata": {},
   "source": [
    "### Exploring and plotting results\n",
    "Results of the tests are available in tabular form in `ds.results_df`. "
   ]
  },
  {
   "cell_type": "code",
   "execution_count": null,
   "id": "55df9c91-2a53-4382-a6c3-a2a72316cb62",
   "metadata": {},
   "outputs": [],
   "source": [
    "# for ease of access, we will first reassign the result dataframe\n",
    "results_df = ds.results_df"
   ]
  },
  {
   "cell_type": "code",
   "execution_count": null,
   "id": "34e98959-8777-477f-a3ea-d01077ee2983",
   "metadata": {},
   "outputs": [],
   "source": [
    "# inspect\n"
   ]
  },
  {
   "cell_type": "markdown",
   "id": "2a0905a5-79c1-437e-baca-3f52c6f1894e",
   "metadata": {},
   "source": [
    "#### 1. Compare top genes by different criteria"
   ]
  },
  {
   "cell_type": "code",
   "execution_count": null,
   "id": "bc7633d6-ea6d-478f-b9bd-63e516a74b2a",
   "metadata": {},
   "outputs": [],
   "source": [
    "# sort the dataframe by adj p val using .sort_values method and inspect the top 10 genes\n"
   ]
  },
  {
   "cell_type": "code",
   "execution_count": null,
   "id": "6016b8f4-4fa5-4743-b668-bef26532690b",
   "metadata": {},
   "outputs": [],
   "source": [
    "# sort the dataframe by highest fold change and inspect the top 10 genes\n"
   ]
  },
  {
   "cell_type": "code",
   "execution_count": null,
   "id": "16abc24d-56a4-4619-b3d3-cf47fb1db528",
   "metadata": {},
   "outputs": [],
   "source": [
    "# sort the dataframe by lowest fold change and inspect the top 10 genes\n"
   ]
  },
  {
   "cell_type": "markdown",
   "id": "141966ab-8ae5-4a44-be11-dde7348f693e",
   "metadata": {},
   "source": [
    "Why do these lists differ? Do some genes appear in several lists?"
   ]
  },
  {
   "cell_type": "markdown",
   "id": "ed19546f-e118-4c8a-b9a6-ba1fd0ddf32c",
   "metadata": {},
   "source": [
    "#### 2. Smear plot and volcano plot"
   ]
  },
  {
   "cell_type": "code",
   "execution_count": null,
   "id": "d933a447-f556-4588-9882-7f39a392cf9a",
   "metadata": {},
   "outputs": [],
   "source": [
    "# Create smear plot - a 2D scatter plot with log2FoldChange on the y axis and expression on the x Axis\n",
    "# use plt.scatter to achieve this\n",
    "# plot np.log2(results_df['baseMean'] + 1) on the x axis\n",
    "# highlight significant genes, i.e. genes with pdj < 0.5 in red\n",
    "# (a simple way to achieve this is to just plot the relevant genes again in red)\n"
   ]
  },
  {
   "cell_type": "markdown",
   "id": "0690894f-186b-4145-ad40-91cf172bd313",
   "metadata": {},
   "source": [
    "Describe the plot, what is the general behavior we observe for significant results?"
   ]
  },
  {
   "cell_type": "code",
   "execution_count": null,
   "id": "b283da83-f953-49a7-8dd0-d5f30f9cf131",
   "metadata": {},
   "outputs": [],
   "source": [
    "# use the function dc.pl.volcano to plot a volcano plot\n",
    "# show the names of the top 10 differentially expressed features\n",
    "# set the significance threshold to 1 log2FoldChange\n",
    "# save the figure to file\n"
   ]
  },
  {
   "cell_type": "markdown",
   "id": "e674d256-de8e-41b0-90ad-4a668c2aefae",
   "metadata": {},
   "source": [
    "#### 3. Heatmap of top diferentially expressed genes"
   ]
  },
  {
   "cell_type": "code",
   "execution_count": null,
   "id": "5392590a-1713-4459-addc-3e02e0110fc2",
   "metadata": {},
   "outputs": [],
   "source": [
    "# Find the 10 top genes by FC in the stim group and the 10 top genes by FC in the control group\n",
    "# and combine them into a list\n",
    "l1 = results_df.sort_values('log2FoldChange', ascending=True).head(10).index.tolist()\n",
    "l2 = results_df.sort_values('log2FoldChange', ascending=False).head(10).index.tolist()\n",
    "top_genes = l1+l2"
   ]
  },
  {
   "cell_type": "code",
   "execution_count": null,
   "id": "b4479be0-65d4-43a8-aceb-1a1038bfceb1",
   "metadata": {},
   "outputs": [],
   "source": [
    "# We want to plot normalized counts which are stored in the dds object.\n",
    "# For better visibility, we add a log version of these counts\n",
    "dds.layers[\"log_normed_counts\"] = np.log(dds.layers[\"normed_counts\"]+1)"
   ]
  },
  {
   "cell_type": "code",
   "execution_count": null,
   "id": "7637df4c-7847-4819-868d-7c2c7e3ffa87",
   "metadata": {},
   "outputs": [],
   "source": [
    "# Plot a heatmap of normalized counts for the top_genes list as a heatmap\n",
    "# Use sc.pl.heatmap on the dds object to accomplish this. use the layer log_normed_counts\n"
   ]
  },
  {
   "cell_type": "markdown",
   "id": "5ff7407c-4f9e-425a-bc59-6bc33874b75e",
   "metadata": {},
   "source": [
    "#### 4. Individual gene expression plots"
   ]
  },
  {
   "cell_type": "code",
   "execution_count": null,
   "id": "06a9fddd-02fd-48b9-ba9e-b32be7049d75",
   "metadata": {},
   "outputs": [],
   "source": [
    "# pick 2 or 3 genes and plot their expression by condition in box plots, use sc.pl.violin for this\n"
   ]
  },
  {
   "cell_type": "markdown",
   "id": "964dbcb4-d937-48ff-97c1-719472204c80",
   "metadata": {},
   "source": [
    "#### 5. Gene annotation lookup\n",
    "Look up some of your top genes to find out what pathways they are involved in and what their function is. Here are some ideas to get started:\n",
    "- NCBI Gene: https://www.ncbi.nlm.nih.gov/gene/\n",
    "- UniProt: https://www.uniprot.org/\n",
    "- GeneCards: https://www.genecards.org/  \n",
    "Also, use an AI Chatbot and compare the output to what you found in above databases."
   ]
  },
  {
   "cell_type": "markdown",
   "id": "8b6327a7-0e03-4653-8079-17afada02f8a",
   "metadata": {},
   "source": [
    "#### 6. Simple pathway / GO term investigation\n",
    "You can try to paste your lists into one of the following tools (or another one of your choosing):\n",
    "- Enrichr: https://maayanlab.cloud/Enrichr/\n",
    "- GOrilla https://cbl-gorilla.cs.technion.ac.il/"
   ]
  },
  {
   "cell_type": "code",
   "execution_count": null,
   "id": "8d69cb47-f6e0-452c-9f28-7cbeea4995c1",
   "metadata": {},
   "outputs": [],
   "source": [
    "# find the top 50 genes by padj and feed them into online gene ontology resources\n"
   ]
  },
  {
   "cell_type": "code",
   "execution_count": null,
   "id": "c0bf9739-3b39-4780-8dac-64771a12fc0f",
   "metadata": {},
   "outputs": [],
   "source": []
  }
 ],
 "metadata": {
  "kernelspec": {
   "display_name": "Python 3 (ipykernel)",
   "language": "python",
   "name": "python3"
  },
  "language_info": {
   "codemirror_mode": {
    "name": "ipython",
    "version": 3
   },
   "file_extension": ".py",
   "mimetype": "text/x-python",
   "name": "python",
   "nbconvert_exporter": "python",
   "pygments_lexer": "ipython3",
   "version": "3.10.18"
  }
 },
 "nbformat": 4,
 "nbformat_minor": 5
}
