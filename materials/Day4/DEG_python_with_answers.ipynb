{
 "cells": [
  {
   "cell_type": "markdown",
   "id": "d9b46e6e-1b35-4e7e-9a98-24bb72d4c98a",
   "metadata": {},
   "source": [
    "### Exercise: Differential Gene Expression Analysis\n",
    "In this exercise, we will calculate and analyse differentially expressed genes between two different conditions of in vitro stimulated PBMCs."
   ]
  },
  {
   "cell_type": "markdown",
   "id": "342b5476-13d8-473e-a105-f64ca509aaeb",
   "metadata": {},
   "source": [
    "#### Import required packages and data\n",
    "Following sc-best-practices (https://www.sc-best-practices.org/conditions/differential_gene_expression.html), we will use the Kang dataset, which is a 10x droplet-based scRNA-seq peripheral blood mononuclear cell (PBMC) data from 8 Lupus patients before and after 6h-treatment with INF-β (16 samples in total) (Kang et al., 2018).\n",
    "\n",
    "You need to download the dataset from the course github repository (https://github.com/buchauer-lab/charite-sc-data-course/tree/main/materials/Day4), unzip it, and use the correct path to the data on your system in the import function below."
   ]
  },
  {
   "cell_type": "code",
   "execution_count": 1,
   "id": "87805102-8a7f-4473-9bac-a4152764dd2e",
   "metadata": {},
   "outputs": [],
   "source": [
    "# general data handling\n",
    "import numpy as np\n",
    "import pandas as pd\n",
    "from scipy import sparse\n",
    "\n",
    "# single cell analysis\n",
    "import scanpy as sc\n",
    "import decoupler as dc\n",
    "\n",
    "# differential expression testing\n",
    "from pydeseq2.dds import DeseqDataSet\n",
    "from pydeseq2.default_inference import DefaultInference\n",
    "from pydeseq2.ds import DeseqStats\n",
    "\n",
    "# plotting\n",
    "import matplotlib.pyplot as plt\n",
    "import seaborn as sns"
   ]
  },
  {
   "cell_type": "code",
   "execution_count": 2,
   "id": "d55e4b26-e3e3-43b6-a27e-c15fef93c8c5",
   "metadata": {},
   "outputs": [],
   "source": [
    "# adjust the path to the location of the folder \"Kang2018\" on your system\n",
    "kang_data_path = '/Users/libuchauer/Projects/Kang2018/'"
   ]
  },
  {
   "cell_type": "code",
   "execution_count": 3,
   "id": "1089df03-2291-467b-9f3c-2d6dff4051ae",
   "metadata": {},
   "outputs": [],
   "source": [
    "# import single cell data\n",
    "adata = sc.read_10x_mtx(kang_data_path)"
   ]
  },
  {
   "cell_type": "code",
   "execution_count": 4,
   "id": "62644598-c7f0-4d00-a623-84a9f0f6e106",
   "metadata": {},
   "outputs": [
    {
     "data": {
      "text/plain": [
       "AnnData object with n_obs × n_vars = 24673 × 15706\n",
       "    var: 'gene_ids', 'feature_types'"
      ]
     },
     "execution_count": 4,
     "metadata": {},
     "output_type": "execute_result"
    }
   ],
   "source": [
    "adata"
   ]
  },
  {
   "cell_type": "code",
   "execution_count": 5,
   "id": "2c1f01e9-47cb-467f-a4ca-66784aa364f5",
   "metadata": {},
   "outputs": [],
   "source": [
    "# import meta data\n",
    "metadata_df = pd.read_csv(kang_data_path + 'metadata.csv', index_col=0)"
   ]
  },
  {
   "cell_type": "code",
   "execution_count": 6,
   "id": "68840b66-847e-475b-b9fd-3b485cd4e240",
   "metadata": {},
   "outputs": [
    {
     "data": {
      "text/html": [
       "<div>\n",
       "<style scoped>\n",
       "    .dataframe tbody tr th:only-of-type {\n",
       "        vertical-align: middle;\n",
       "    }\n",
       "\n",
       "    .dataframe tbody tr th {\n",
       "        vertical-align: top;\n",
       "    }\n",
       "\n",
       "    .dataframe thead th {\n",
       "        text-align: right;\n",
       "    }\n",
       "</style>\n",
       "<table border=\"1\" class=\"dataframe\">\n",
       "  <thead>\n",
       "    <tr style=\"text-align: right;\">\n",
       "      <th></th>\n",
       "      <th>nCount_RNA</th>\n",
       "      <th>nFeature_RNA</th>\n",
       "      <th>tsne1</th>\n",
       "      <th>tsne2</th>\n",
       "      <th>label</th>\n",
       "      <th>cluster</th>\n",
       "      <th>cell_type</th>\n",
       "      <th>replicate</th>\n",
       "      <th>nCount_SCT</th>\n",
       "      <th>nFeature_SCT</th>\n",
       "      <th>integrated_snn_res.0.4</th>\n",
       "      <th>seurat_clusters</th>\n",
       "    </tr>\n",
       "    <tr>\n",
       "      <th>index</th>\n",
       "      <th></th>\n",
       "      <th></th>\n",
       "      <th></th>\n",
       "      <th></th>\n",
       "      <th></th>\n",
       "      <th></th>\n",
       "      <th></th>\n",
       "      <th></th>\n",
       "      <th></th>\n",
       "      <th></th>\n",
       "      <th></th>\n",
       "      <th></th>\n",
       "    </tr>\n",
       "  </thead>\n",
       "  <tbody>\n",
       "    <tr>\n",
       "      <th>AAACATACATTTCC-1</th>\n",
       "      <td>3017.0</td>\n",
       "      <td>877</td>\n",
       "      <td>-27.640373</td>\n",
       "      <td>14.966629</td>\n",
       "      <td>ctrl</td>\n",
       "      <td>9</td>\n",
       "      <td>CD14+ Monocytes</td>\n",
       "      <td>patient_1016</td>\n",
       "      <td>1704.0</td>\n",
       "      <td>711</td>\n",
       "      <td>1</td>\n",
       "      <td>1</td>\n",
       "    </tr>\n",
       "    <tr>\n",
       "      <th>AAACATACCAGAAA-1</th>\n",
       "      <td>2481.0</td>\n",
       "      <td>713</td>\n",
       "      <td>-27.493646</td>\n",
       "      <td>28.924885</td>\n",
       "      <td>ctrl</td>\n",
       "      <td>9</td>\n",
       "      <td>CD14+ Monocytes</td>\n",
       "      <td>patient_1256</td>\n",
       "      <td>1614.0</td>\n",
       "      <td>662</td>\n",
       "      <td>1</td>\n",
       "      <td>1</td>\n",
       "    </tr>\n",
       "    <tr>\n",
       "      <th>AAACATACCATGCA-1</th>\n",
       "      <td>703.0</td>\n",
       "      <td>337</td>\n",
       "      <td>-10.468194</td>\n",
       "      <td>-5.984389</td>\n",
       "      <td>ctrl</td>\n",
       "      <td>3</td>\n",
       "      <td>CD4 T cells</td>\n",
       "      <td>patient_1488</td>\n",
       "      <td>908.0</td>\n",
       "      <td>337</td>\n",
       "      <td>6</td>\n",
       "      <td>6</td>\n",
       "    </tr>\n",
       "    <tr>\n",
       "      <th>AAACATACCTCGCT-1</th>\n",
       "      <td>3420.0</td>\n",
       "      <td>850</td>\n",
       "      <td>-24.367997</td>\n",
       "      <td>20.429285</td>\n",
       "      <td>ctrl</td>\n",
       "      <td>9</td>\n",
       "      <td>CD14+ Monocytes</td>\n",
       "      <td>patient_1256</td>\n",
       "      <td>1738.0</td>\n",
       "      <td>653</td>\n",
       "      <td>1</td>\n",
       "      <td>1</td>\n",
       "    </tr>\n",
       "    <tr>\n",
       "      <th>AAACATACCTGGTA-1</th>\n",
       "      <td>3158.0</td>\n",
       "      <td>1111</td>\n",
       "      <td>27.952170</td>\n",
       "      <td>24.159738</td>\n",
       "      <td>ctrl</td>\n",
       "      <td>4</td>\n",
       "      <td>Dendritic cells</td>\n",
       "      <td>patient_1039</td>\n",
       "      <td>1857.0</td>\n",
       "      <td>928</td>\n",
       "      <td>12</td>\n",
       "      <td>12</td>\n",
       "    </tr>\n",
       "  </tbody>\n",
       "</table>\n",
       "</div>"
      ],
      "text/plain": [
       "                  nCount_RNA  nFeature_RNA      tsne1      tsne2 label  \\\n",
       "index                                                                    \n",
       "AAACATACATTTCC-1      3017.0           877 -27.640373  14.966629  ctrl   \n",
       "AAACATACCAGAAA-1      2481.0           713 -27.493646  28.924885  ctrl   \n",
       "AAACATACCATGCA-1       703.0           337 -10.468194  -5.984389  ctrl   \n",
       "AAACATACCTCGCT-1      3420.0           850 -24.367997  20.429285  ctrl   \n",
       "AAACATACCTGGTA-1      3158.0          1111  27.952170  24.159738  ctrl   \n",
       "\n",
       "                  cluster        cell_type     replicate  nCount_SCT  \\\n",
       "index                                                                  \n",
       "AAACATACATTTCC-1        9  CD14+ Monocytes  patient_1016      1704.0   \n",
       "AAACATACCAGAAA-1        9  CD14+ Monocytes  patient_1256      1614.0   \n",
       "AAACATACCATGCA-1        3      CD4 T cells  patient_1488       908.0   \n",
       "AAACATACCTCGCT-1        9  CD14+ Monocytes  patient_1256      1738.0   \n",
       "AAACATACCTGGTA-1        4  Dendritic cells  patient_1039      1857.0   \n",
       "\n",
       "                  nFeature_SCT  integrated_snn_res.0.4  seurat_clusters  \n",
       "index                                                                    \n",
       "AAACATACATTTCC-1           711                       1                1  \n",
       "AAACATACCAGAAA-1           662                       1                1  \n",
       "AAACATACCATGCA-1           337                       6                6  \n",
       "AAACATACCTCGCT-1           653                       1                1  \n",
       "AAACATACCTGGTA-1           928                      12               12  "
      ]
     },
     "execution_count": 6,
     "metadata": {},
     "output_type": "execute_result"
    }
   ],
   "source": [
    "# inspect the metadata\n",
    "metadata_df.head()"
   ]
  },
  {
   "cell_type": "code",
   "execution_count": 7,
   "id": "fda47e62-8d79-455d-a4d7-e11e0ac8501d",
   "metadata": {},
   "outputs": [],
   "source": [
    "# add metadata to adata.obs\n",
    "adata.obs = adata.obs.join(metadata_df)"
   ]
  },
  {
   "cell_type": "code",
   "execution_count": 8,
   "id": "badc4e1c-0794-4c0a-a132-36dbe8611274",
   "metadata": {},
   "outputs": [
    {
     "data": {
      "text/html": [
       "<div>\n",
       "<style scoped>\n",
       "    .dataframe tbody tr th:only-of-type {\n",
       "        vertical-align: middle;\n",
       "    }\n",
       "\n",
       "    .dataframe tbody tr th {\n",
       "        vertical-align: top;\n",
       "    }\n",
       "\n",
       "    .dataframe thead th {\n",
       "        text-align: right;\n",
       "    }\n",
       "</style>\n",
       "<table border=\"1\" class=\"dataframe\">\n",
       "  <thead>\n",
       "    <tr style=\"text-align: right;\">\n",
       "      <th></th>\n",
       "      <th>nCount_RNA</th>\n",
       "      <th>nFeature_RNA</th>\n",
       "      <th>tsne1</th>\n",
       "      <th>tsne2</th>\n",
       "      <th>label</th>\n",
       "      <th>cluster</th>\n",
       "      <th>cell_type</th>\n",
       "      <th>replicate</th>\n",
       "      <th>nCount_SCT</th>\n",
       "      <th>nFeature_SCT</th>\n",
       "      <th>integrated_snn_res.0.4</th>\n",
       "      <th>seurat_clusters</th>\n",
       "    </tr>\n",
       "  </thead>\n",
       "  <tbody>\n",
       "    <tr>\n",
       "      <th>AAACATACATTTCC-1</th>\n",
       "      <td>3017.0</td>\n",
       "      <td>877</td>\n",
       "      <td>-27.640373</td>\n",
       "      <td>14.966629</td>\n",
       "      <td>ctrl</td>\n",
       "      <td>9</td>\n",
       "      <td>CD14+ Monocytes</td>\n",
       "      <td>patient_1016</td>\n",
       "      <td>1704.0</td>\n",
       "      <td>711</td>\n",
       "      <td>1</td>\n",
       "      <td>1</td>\n",
       "    </tr>\n",
       "    <tr>\n",
       "      <th>AAACATACCAGAAA-1</th>\n",
       "      <td>2481.0</td>\n",
       "      <td>713</td>\n",
       "      <td>-27.493646</td>\n",
       "      <td>28.924885</td>\n",
       "      <td>ctrl</td>\n",
       "      <td>9</td>\n",
       "      <td>CD14+ Monocytes</td>\n",
       "      <td>patient_1256</td>\n",
       "      <td>1614.0</td>\n",
       "      <td>662</td>\n",
       "      <td>1</td>\n",
       "      <td>1</td>\n",
       "    </tr>\n",
       "    <tr>\n",
       "      <th>AAACATACCATGCA-1</th>\n",
       "      <td>703.0</td>\n",
       "      <td>337</td>\n",
       "      <td>-10.468194</td>\n",
       "      <td>-5.984389</td>\n",
       "      <td>ctrl</td>\n",
       "      <td>3</td>\n",
       "      <td>CD4 T cells</td>\n",
       "      <td>patient_1488</td>\n",
       "      <td>908.0</td>\n",
       "      <td>337</td>\n",
       "      <td>6</td>\n",
       "      <td>6</td>\n",
       "    </tr>\n",
       "    <tr>\n",
       "      <th>AAACATACCTCGCT-1</th>\n",
       "      <td>3420.0</td>\n",
       "      <td>850</td>\n",
       "      <td>-24.367997</td>\n",
       "      <td>20.429285</td>\n",
       "      <td>ctrl</td>\n",
       "      <td>9</td>\n",
       "      <td>CD14+ Monocytes</td>\n",
       "      <td>patient_1256</td>\n",
       "      <td>1738.0</td>\n",
       "      <td>653</td>\n",
       "      <td>1</td>\n",
       "      <td>1</td>\n",
       "    </tr>\n",
       "    <tr>\n",
       "      <th>AAACATACCTGGTA-1</th>\n",
       "      <td>3158.0</td>\n",
       "      <td>1111</td>\n",
       "      <td>27.952170</td>\n",
       "      <td>24.159738</td>\n",
       "      <td>ctrl</td>\n",
       "      <td>4</td>\n",
       "      <td>Dendritic cells</td>\n",
       "      <td>patient_1039</td>\n",
       "      <td>1857.0</td>\n",
       "      <td>928</td>\n",
       "      <td>12</td>\n",
       "      <td>12</td>\n",
       "    </tr>\n",
       "  </tbody>\n",
       "</table>\n",
       "</div>"
      ],
      "text/plain": [
       "                  nCount_RNA  nFeature_RNA      tsne1      tsne2 label  \\\n",
       "AAACATACATTTCC-1      3017.0           877 -27.640373  14.966629  ctrl   \n",
       "AAACATACCAGAAA-1      2481.0           713 -27.493646  28.924885  ctrl   \n",
       "AAACATACCATGCA-1       703.0           337 -10.468194  -5.984389  ctrl   \n",
       "AAACATACCTCGCT-1      3420.0           850 -24.367997  20.429285  ctrl   \n",
       "AAACATACCTGGTA-1      3158.0          1111  27.952170  24.159738  ctrl   \n",
       "\n",
       "                  cluster        cell_type     replicate  nCount_SCT  \\\n",
       "AAACATACATTTCC-1        9  CD14+ Monocytes  patient_1016      1704.0   \n",
       "AAACATACCAGAAA-1        9  CD14+ Monocytes  patient_1256      1614.0   \n",
       "AAACATACCATGCA-1        3      CD4 T cells  patient_1488       908.0   \n",
       "AAACATACCTCGCT-1        9  CD14+ Monocytes  patient_1256      1738.0   \n",
       "AAACATACCTGGTA-1        4  Dendritic cells  patient_1039      1857.0   \n",
       "\n",
       "                  nFeature_SCT  integrated_snn_res.0.4  seurat_clusters  \n",
       "AAACATACATTTCC-1           711                       1                1  \n",
       "AAACATACCAGAAA-1           662                       1                1  \n",
       "AAACATACCATGCA-1           337                       6                6  \n",
       "AAACATACCTCGCT-1           653                       1                1  \n",
       "AAACATACCTGGTA-1           928                      12               12  "
      ]
     },
     "execution_count": 8,
     "metadata": {},
     "output_type": "execute_result"
    }
   ],
   "source": [
    "# inspect adata.obs to ensure everything worked\n",
    "adata.obs.head()"
   ]
  },
  {
   "cell_type": "code",
   "execution_count": 9,
   "id": "d38c1a21-b9b0-4f5e-8b99-9bb5f2e9f62e",
   "metadata": {},
   "outputs": [
    {
     "data": {
      "text/plain": [
       "array(['CD14+ Monocytes', 'CD4 T cells', 'Dendritic cells', 'NK cells',\n",
       "       'CD8 T cells', 'B cells', 'FCGR3A+ Monocytes', 'Megakaryocytes'],\n",
       "      dtype=object)"
      ]
     },
     "execution_count": 9,
     "metadata": {},
     "output_type": "execute_result"
    }
   ],
   "source": [
    "# print the different cell type labels which appear here to screen\n",
    "adata.obs['cell_type'].unique()"
   ]
  },
  {
   "cell_type": "code",
   "execution_count": 10,
   "id": "3352d9dd-48b7-4ea7-b818-5da1fa411994",
   "metadata": {},
   "outputs": [
    {
     "data": {
      "text/plain": [
       "array(['patient_1016', 'patient_1256', 'patient_1488', 'patient_1039',\n",
       "       'patient_1015', 'patient_107', 'patient_1244', 'patient_101'],\n",
       "      dtype=object)"
      ]
     },
     "execution_count": 10,
     "metadata": {},
     "output_type": "execute_result"
    }
   ],
   "source": [
    "# print the patient identifiers\n",
    "adata.obs['replicate'].unique()"
   ]
  },
  {
   "cell_type": "code",
   "execution_count": 11,
   "id": "0783d938-03df-43c8-a5c2-69778580c447",
   "metadata": {},
   "outputs": [
    {
     "data": {
      "text/plain": [
       "array(['ctrl', 'stim'], dtype=object)"
      ]
     },
     "execution_count": 11,
     "metadata": {},
     "output_type": "execute_result"
    }
   ],
   "source": [
    "# print the different conditions, here called 'labels'\n",
    "adata.obs['label'].unique()"
   ]
  },
  {
   "cell_type": "markdown",
   "id": "828a7fca-f9ca-4682-8c9c-a1dbcf015e63",
   "metadata": {},
   "source": [
    "#### Data preparation\n",
    "We will perform a very basic quality control and calculate pseudobulks for each patient which we will need for differential expression analysis with pyDESeq2.\n"
   ]
  },
  {
   "cell_type": "code",
   "execution_count": 12,
   "id": "24f1154c-4431-4d94-9928-a9a1a6e882bf",
   "metadata": {},
   "outputs": [],
   "source": [
    "# use scanpy's filter_cells and filter_genes functions to remove cells with \n",
    "# less than 200 genes and genes which appear in less than 3 cells\n",
    "sc.pp.filter_cells(adata, min_genes=200)\n",
    "sc.pp.filter_genes(adata, min_cells=3)"
   ]
  },
  {
   "cell_type": "code",
   "execution_count": 13,
   "id": "45ca364b-f665-4d3e-afc6-d32474c54c79",
   "metadata": {},
   "outputs": [
    {
     "data": {
      "text/plain": [
       "AnnData object with n_obs × n_vars = 24562 × 15701\n",
       "    obs: 'nCount_RNA', 'nFeature_RNA', 'tsne1', 'tsne2', 'label', 'cluster', 'cell_type', 'replicate', 'nCount_SCT', 'nFeature_SCT', 'integrated_snn_res.0.4', 'seurat_clusters', 'n_genes'\n",
       "    var: 'gene_ids', 'feature_types', 'n_cells'"
      ]
     },
     "execution_count": 13,
     "metadata": {},
     "output_type": "execute_result"
    }
   ],
   "source": [
    "adata"
   ]
  },
  {
   "cell_type": "code",
   "execution_count": 14,
   "id": "12b8962d-fc1d-468c-801c-cd79d808d049",
   "metadata": {},
   "outputs": [],
   "source": [
    "# next, we need to introduce a column that holds the sample information, in our case a combination of \"replicate\" and \"label\"\n",
    "adata.obs['sample'] = adata.obs['replicate'] + '_' + adata.obs['label']"
   ]
  },
  {
   "cell_type": "markdown",
   "id": "d56d503c-b7a6-47c6-aaa5-58ff56fa7732",
   "metadata": {},
   "source": [
    "In order to create pseudobulks (gene expression vectors per sample, generated by summing up all single cell expression vectos of a given cell type in that sample), we will use functionality from `decopupler`."
   ]
  },
  {
   "cell_type": "code",
   "execution_count": 15,
   "id": "b3029a02-92d2-4ab1-bc9e-6a48359604e7",
   "metadata": {},
   "outputs": [],
   "source": [
    "# use the decoupler function dc.pp.pseudobulk to generate an anndata object of pseudobulks\n",
    "# use mode='sum' to create pseudobulks by summing\n",
    "pb_data = dc.pp.pseudobulk(adata, sample_col='sample', groups_col='cell_type', mode='sum')"
   ]
  },
  {
   "cell_type": "code",
   "execution_count": 16,
   "id": "064c3b94-830c-42c9-9185-a140503fe14f",
   "metadata": {},
   "outputs": [
    {
     "data": {
      "text/plain": [
       "AnnData object with n_obs × n_vars = 128 × 15701\n",
       "    obs: 'sample', 'cell_type', 'label', 'replicate', 'psbulk_cells', 'psbulk_counts'\n",
       "    var: 'gene_ids', 'feature_types', 'n_cells'\n",
       "    layers: 'psbulk_props'"
      ]
     },
     "execution_count": 16,
     "metadata": {},
     "output_type": "execute_result"
    }
   ],
   "source": [
    "# inspect the object - how many observations are in there now? Is this according to your expectation?\n",
    "pb_data"
   ]
  },
  {
   "cell_type": "code",
   "execution_count": 17,
   "id": "d95b983f-edbc-41ac-85a7-58cd5ee377ee",
   "metadata": {},
   "outputs": [
    {
     "data": {
      "text/html": [
       "<div>\n",
       "<style scoped>\n",
       "    .dataframe tbody tr th:only-of-type {\n",
       "        vertical-align: middle;\n",
       "    }\n",
       "\n",
       "    .dataframe tbody tr th {\n",
       "        vertical-align: top;\n",
       "    }\n",
       "\n",
       "    .dataframe thead th {\n",
       "        text-align: right;\n",
       "    }\n",
       "</style>\n",
       "<table border=\"1\" class=\"dataframe\">\n",
       "  <thead>\n",
       "    <tr style=\"text-align: right;\">\n",
       "      <th></th>\n",
       "      <th>sample</th>\n",
       "      <th>cell_type</th>\n",
       "      <th>label</th>\n",
       "      <th>replicate</th>\n",
       "      <th>psbulk_cells</th>\n",
       "      <th>psbulk_counts</th>\n",
       "    </tr>\n",
       "  </thead>\n",
       "  <tbody>\n",
       "    <tr>\n",
       "      <th>patient_1015_ctrl_B cells</th>\n",
       "      <td>patient_1015_ctrl</td>\n",
       "      <td>B cells</td>\n",
       "      <td>ctrl</td>\n",
       "      <td>patient_1015</td>\n",
       "      <td>459.0</td>\n",
       "      <td>556570.0</td>\n",
       "    </tr>\n",
       "    <tr>\n",
       "      <th>patient_1015_stim_B cells</th>\n",
       "      <td>patient_1015_stim</td>\n",
       "      <td>B cells</td>\n",
       "      <td>stim</td>\n",
       "      <td>patient_1015</td>\n",
       "      <td>366.0</td>\n",
       "      <td>481886.0</td>\n",
       "    </tr>\n",
       "    <tr>\n",
       "      <th>patient_1016_ctrl_B cells</th>\n",
       "      <td>patient_1016_ctrl</td>\n",
       "      <td>B cells</td>\n",
       "      <td>ctrl</td>\n",
       "      <td>patient_1016</td>\n",
       "      <td>125.0</td>\n",
       "      <td>152335.0</td>\n",
       "    </tr>\n",
       "    <tr>\n",
       "      <th>patient_1016_stim_B cells</th>\n",
       "      <td>patient_1016_stim</td>\n",
       "      <td>B cells</td>\n",
       "      <td>stim</td>\n",
       "      <td>patient_1016</td>\n",
       "      <td>123.0</td>\n",
       "      <td>150619.0</td>\n",
       "    </tr>\n",
       "    <tr>\n",
       "      <th>patient_101_ctrl_B cells</th>\n",
       "      <td>patient_101_ctrl</td>\n",
       "      <td>B cells</td>\n",
       "      <td>ctrl</td>\n",
       "      <td>patient_101</td>\n",
       "      <td>106.0</td>\n",
       "      <td>124446.0</td>\n",
       "    </tr>\n",
       "    <tr>\n",
       "      <th>...</th>\n",
       "      <td>...</td>\n",
       "      <td>...</td>\n",
       "      <td>...</td>\n",
       "      <td>...</td>\n",
       "      <td>...</td>\n",
       "      <td>...</td>\n",
       "    </tr>\n",
       "    <tr>\n",
       "      <th>patient_1244_stim_NK cells</th>\n",
       "      <td>patient_1244_stim</td>\n",
       "      <td>NK cells</td>\n",
       "      <td>stim</td>\n",
       "      <td>patient_1244</td>\n",
       "      <td>107.0</td>\n",
       "      <td>110057.0</td>\n",
       "    </tr>\n",
       "    <tr>\n",
       "      <th>patient_1256_ctrl_NK cells</th>\n",
       "      <td>patient_1256_ctrl</td>\n",
       "      <td>NK cells</td>\n",
       "      <td>ctrl</td>\n",
       "      <td>patient_1256</td>\n",
       "      <td>242.0</td>\n",
       "      <td>213089.0</td>\n",
       "    </tr>\n",
       "    <tr>\n",
       "      <th>patient_1256_stim_NK cells</th>\n",
       "      <td>patient_1256_stim</td>\n",
       "      <td>NK cells</td>\n",
       "      <td>stim</td>\n",
       "      <td>patient_1256</td>\n",
       "      <td>186.0</td>\n",
       "      <td>177173.0</td>\n",
       "    </tr>\n",
       "    <tr>\n",
       "      <th>patient_1488_ctrl_NK cells</th>\n",
       "      <td>patient_1488_ctrl</td>\n",
       "      <td>NK cells</td>\n",
       "      <td>ctrl</td>\n",
       "      <td>patient_1488</td>\n",
       "      <td>119.0</td>\n",
       "      <td>102821.0</td>\n",
       "    </tr>\n",
       "    <tr>\n",
       "      <th>patient_1488_stim_NK cells</th>\n",
       "      <td>patient_1488_stim</td>\n",
       "      <td>NK cells</td>\n",
       "      <td>stim</td>\n",
       "      <td>patient_1488</td>\n",
       "      <td>149.0</td>\n",
       "      <td>139963.0</td>\n",
       "    </tr>\n",
       "  </tbody>\n",
       "</table>\n",
       "<p>128 rows × 6 columns</p>\n",
       "</div>"
      ],
      "text/plain": [
       "                                       sample cell_type label     replicate  \\\n",
       "patient_1015_ctrl_B cells   patient_1015_ctrl   B cells  ctrl  patient_1015   \n",
       "patient_1015_stim_B cells   patient_1015_stim   B cells  stim  patient_1015   \n",
       "patient_1016_ctrl_B cells   patient_1016_ctrl   B cells  ctrl  patient_1016   \n",
       "patient_1016_stim_B cells   patient_1016_stim   B cells  stim  patient_1016   \n",
       "patient_101_ctrl_B cells     patient_101_ctrl   B cells  ctrl   patient_101   \n",
       "...                                       ...       ...   ...           ...   \n",
       "patient_1244_stim_NK cells  patient_1244_stim  NK cells  stim  patient_1244   \n",
       "patient_1256_ctrl_NK cells  patient_1256_ctrl  NK cells  ctrl  patient_1256   \n",
       "patient_1256_stim_NK cells  patient_1256_stim  NK cells  stim  patient_1256   \n",
       "patient_1488_ctrl_NK cells  patient_1488_ctrl  NK cells  ctrl  patient_1488   \n",
       "patient_1488_stim_NK cells  patient_1488_stim  NK cells  stim  patient_1488   \n",
       "\n",
       "                            psbulk_cells  psbulk_counts  \n",
       "patient_1015_ctrl_B cells          459.0       556570.0  \n",
       "patient_1015_stim_B cells          366.0       481886.0  \n",
       "patient_1016_ctrl_B cells          125.0       152335.0  \n",
       "patient_1016_stim_B cells          123.0       150619.0  \n",
       "patient_101_ctrl_B cells           106.0       124446.0  \n",
       "...                                  ...            ...  \n",
       "patient_1244_stim_NK cells         107.0       110057.0  \n",
       "patient_1256_ctrl_NK cells         242.0       213089.0  \n",
       "patient_1256_stim_NK cells         186.0       177173.0  \n",
       "patient_1488_ctrl_NK cells         119.0       102821.0  \n",
       "patient_1488_stim_NK cells         149.0       139963.0  \n",
       "\n",
       "[128 rows x 6 columns]"
      ]
     },
     "execution_count": 17,
     "metadata": {},
     "output_type": "execute_result"
    }
   ],
   "source": [
    "# inspect the metadata in the obs dataframe\n",
    "pb_data.obs"
   ]
  },
  {
   "cell_type": "code",
   "execution_count": 18,
   "id": "318517cc-d28b-4edc-9a96-b458ee458191",
   "metadata": {},
   "outputs": [],
   "source": [
    "# now, we want to remove pseudobulks which do not have at least 30 cells or 3000 counts\n",
    "# use the function dc.pp.filter_samples to accomplish this\n",
    "dc.pp.filter_samples(pb_data, min_cells=30, min_counts=1000)"
   ]
  },
  {
   "cell_type": "markdown",
   "id": "1d8645c9-b80d-4ebd-beb0-5976010acb79",
   "metadata": {},
   "source": [
    "#### Basic analysis of the pseudobulked data objects\n",
    "In differential expression testing, defining the right statistical model is very important. In order to identify the covariates which drive differences in our dataset (these are the covariates we should include in our model), we use scanpy to calculate a PCA for the pseudobulked data and inspect a series of PCA plots coloured by covariates."
   ]
  },
  {
   "cell_type": "code",
   "execution_count": 20,
   "id": "43a97ce0-2175-4497-a747-7c88e4375fd5",
   "metadata": {},
   "outputs": [],
   "source": [
    "# we make a copy of the data object above as we will lognormalize it for calculating the PCA\n",
    "pb_copy = pb_data.copy()"
   ]
  },
  {
   "cell_type": "code",
   "execution_count": 21,
   "id": "2b97e15a-6933-4ab2-bb56-1bc54256a73d",
   "metadata": {},
   "outputs": [],
   "source": [
    "# the .obs metadata contains a column psbulk_counts with count sums, add a column which contains the np.log of this\n",
    "pb_copy.obs['log_psbulk_counts'] = np.log(pb_copy.obs['psbulk_counts'])"
   ]
  },
  {
   "cell_type": "code",
   "execution_count": 22,
   "id": "873f41ca-dd55-4481-993d-550d5bd880f8",
   "metadata": {},
   "outputs": [],
   "source": [
    "# as you would for single cell data, perform the following steps using scanpy functions:\n",
    "# 1. normalize total counts to a target sum 1e6\n",
    "# 2. log1p transform the data\n",
    "# 3. calculate a PCA\n",
    "sc.pp.normalize_total(pb_copy, target_sum=1e6)\n",
    "sc.pp.log1p(pb_copy)\n",
    "sc.pp.pca(pb_copy)"
   ]
  },
  {
   "cell_type": "code",
   "execution_count": 23,
   "id": "8fee104f-2ed7-4461-af55-27d2bfde7cc2",
   "metadata": {},
   "outputs": [
    {
     "name": "stderr",
     "output_type": "stream",
     "text": [
      "... storing 'feature_types' as categorical\n"
     ]
    },
    {
     "data": {
      "image/png": "[encoded data removed]",
      "text/plain": [
       "<Figure size 1455.6x960 with 5 Axes>"
      ]
     },
     "metadata": {},
     "output_type": "display_data"
    }
   ],
   "source": [
    "# plot PCA plots coloured by label, cell_type, replicate, log_lib_size\n",
    "sc.pl.pca(pb_copy, color=['label', 'cell_type', 'replicate', 'log_psbulk_counts'], ncols=2)"
   ]
  },
  {
   "cell_type": "markdown",
   "id": "9d9d4f58-6534-420c-85c3-9c49ebf46119",
   "metadata": {},
   "source": [
    "Which of the above covariates seem to be strongly driving variance in PC1  or PC2? Discuss."
   ]
  },
  {
   "cell_type": "markdown",
   "id": "5372c678-1fd9-405c-8526-e026f15dedd6",
   "metadata": {},
   "source": [
    "#### Differential expression analysis with PyDESeq2\n",
    "We will now use the pseudobulked data of monocytes only for differential expression testing. We first need to get the data into the right format - PyDESeq2 expects a pandas dataframe of the gene expression data as well as of the metadata."
   ]
  },
  {
   "cell_type": "code",
   "execution_count": 24,
   "id": "3b9d231b-4a63-4aa4-b872-07196884ba3c",
   "metadata": {},
   "outputs": [],
   "source": [
    "# First, subset the pseudobulked anndata object to only the monoyte populations.\n",
    "mono_pb = pb_data[pb_data.obs['cell_type']=='CD14+ Monocytes']"
   ]
  },
  {
   "cell_type": "code",
   "execution_count": 25,
   "id": "b5ebff87-5cc2-4366-9ca9-b572f490c4c3",
   "metadata": {},
   "outputs": [],
   "source": [
    "# Next, we want to remove genes for which we do not expect relevant results\n",
    "# Discuss with your neighbor why we want to reduce the number of genes for which we \n",
    "# perform differential expression testing.\n",
    "# we want to remove all genes for which we do not see at least 15 counts in total\n",
    "# use dc.pp.filter_by_expr to accomplish this\n",
    "dc.pp.filter_by_expr(\n",
    "    adata=mono_pb,\n",
    "    min_total_count=15,\n",
    ")\n",
    "\n",
    "# we want to retain only genes which are present in at least 10% of cells in at least 3 samples\n",
    "# use dc.pp.filter_prop to accomplish this\n",
    "dc.pp.filter_by_prop(\n",
    "    adata=mono_pb,\n",
    "    min_prop=0.1,\n",
    "    min_smpls=3,\n",
    ")"
   ]
  },
  {
   "cell_type": "markdown",
   "id": "c390e49b-585a-41f5-90ca-21202aa3cdd9",
   "metadata": {},
   "source": [
    "How many genes did we lose through this filtering?"
   ]
  },
  {
   "cell_type": "code",
   "execution_count": 26,
   "id": "efd166bd-fbec-4c8c-aea5-00dc1f8d3fda",
   "metadata": {},
   "outputs": [],
   "source": [
    "# Let's make a dataframe of the counts\n",
    "counts_df = pd.DataFrame(data=mono_pb.X, index=mono_pb.obs.index, columns=mono_pb.var.index)"
   ]
  },
  {
   "cell_type": "code",
   "execution_count": 27,
   "id": "73395f41-0e92-4c85-a02e-2e6f38cb249e",
   "metadata": {},
   "outputs": [
    {
     "data": {
      "text/html": [
       "<div>\n",
       "<style scoped>\n",
       "    .dataframe tbody tr th:only-of-type {\n",
       "        vertical-align: middle;\n",
       "    }\n",
       "\n",
       "    .dataframe tbody tr th {\n",
       "        vertical-align: top;\n",
       "    }\n",
       "\n",
       "    .dataframe thead th {\n",
       "        text-align: right;\n",
       "    }\n",
       "</style>\n",
       "<table border=\"1\" class=\"dataframe\">\n",
       "  <thead>\n",
       "    <tr style=\"text-align: right;\">\n",
       "      <th></th>\n",
       "      <th>HP1BP3</th>\n",
       "      <th>GSTO1</th>\n",
       "      <th>PPDPF</th>\n",
       "      <th>TGFBI</th>\n",
       "      <th>TMED9</th>\n",
       "      <th>PSMC2</th>\n",
       "      <th>ARPC3</th>\n",
       "      <th>OAZ2</th>\n",
       "      <th>SUMO2</th>\n",
       "      <th>SRSF11</th>\n",
       "      <th>...</th>\n",
       "      <th>TNFSF13B</th>\n",
       "      <th>PPT1</th>\n",
       "      <th>PFKFB3</th>\n",
       "      <th>HLA-DRB1</th>\n",
       "      <th>SLC39A1</th>\n",
       "      <th>ASAH1</th>\n",
       "      <th>LDHB</th>\n",
       "      <th>PDIA3</th>\n",
       "      <th>TUFM</th>\n",
       "      <th>COX4I1</th>\n",
       "    </tr>\n",
       "  </thead>\n",
       "  <tbody>\n",
       "    <tr>\n",
       "      <th>patient_1015_ctrl_CD14+ Monocytes</th>\n",
       "      <td>123.0</td>\n",
       "      <td>2091.0</td>\n",
       "      <td>646.0</td>\n",
       "      <td>329.0</td>\n",
       "      <td>308.0</td>\n",
       "      <td>150.0</td>\n",
       "      <td>2051.0</td>\n",
       "      <td>241.0</td>\n",
       "      <td>521.0</td>\n",
       "      <td>153.0</td>\n",
       "      <td>...</td>\n",
       "      <td>127.0</td>\n",
       "      <td>98.0</td>\n",
       "      <td>57.0</td>\n",
       "      <td>4768.0</td>\n",
       "      <td>77.0</td>\n",
       "      <td>415.0</td>\n",
       "      <td>84.0</td>\n",
       "      <td>605.0</td>\n",
       "      <td>245.0</td>\n",
       "      <td>1787.0</td>\n",
       "    </tr>\n",
       "    <tr>\n",
       "      <th>patient_1015_stim_CD14+ Monocytes</th>\n",
       "      <td>61.0</td>\n",
       "      <td>2396.0</td>\n",
       "      <td>620.0</td>\n",
       "      <td>121.0</td>\n",
       "      <td>160.0</td>\n",
       "      <td>118.0</td>\n",
       "      <td>1497.0</td>\n",
       "      <td>71.0</td>\n",
       "      <td>346.0</td>\n",
       "      <td>113.0</td>\n",
       "      <td>...</td>\n",
       "      <td>2626.0</td>\n",
       "      <td>52.0</td>\n",
       "      <td>115.0</td>\n",
       "      <td>5111.0</td>\n",
       "      <td>50.0</td>\n",
       "      <td>317.0</td>\n",
       "      <td>47.0</td>\n",
       "      <td>546.0</td>\n",
       "      <td>72.0</td>\n",
       "      <td>910.0</td>\n",
       "    </tr>\n",
       "    <tr>\n",
       "      <th>patient_1016_ctrl_CD14+ Monocytes</th>\n",
       "      <td>67.0</td>\n",
       "      <td>999.0</td>\n",
       "      <td>213.0</td>\n",
       "      <td>211.0</td>\n",
       "      <td>112.0</td>\n",
       "      <td>63.0</td>\n",
       "      <td>909.0</td>\n",
       "      <td>85.0</td>\n",
       "      <td>235.0</td>\n",
       "      <td>59.0</td>\n",
       "      <td>...</td>\n",
       "      <td>115.0</td>\n",
       "      <td>50.0</td>\n",
       "      <td>30.0</td>\n",
       "      <td>1829.0</td>\n",
       "      <td>26.0</td>\n",
       "      <td>227.0</td>\n",
       "      <td>72.0</td>\n",
       "      <td>245.0</td>\n",
       "      <td>89.0</td>\n",
       "      <td>1058.0</td>\n",
       "    </tr>\n",
       "    <tr>\n",
       "      <th>patient_1016_stim_CD14+ Monocytes</th>\n",
       "      <td>29.0</td>\n",
       "      <td>1018.0</td>\n",
       "      <td>167.0</td>\n",
       "      <td>111.0</td>\n",
       "      <td>49.0</td>\n",
       "      <td>45.0</td>\n",
       "      <td>685.0</td>\n",
       "      <td>35.0</td>\n",
       "      <td>173.0</td>\n",
       "      <td>45.0</td>\n",
       "      <td>...</td>\n",
       "      <td>1330.0</td>\n",
       "      <td>37.0</td>\n",
       "      <td>36.0</td>\n",
       "      <td>1887.0</td>\n",
       "      <td>20.0</td>\n",
       "      <td>145.0</td>\n",
       "      <td>40.0</td>\n",
       "      <td>202.0</td>\n",
       "      <td>31.0</td>\n",
       "      <td>519.0</td>\n",
       "    </tr>\n",
       "    <tr>\n",
       "      <th>patient_101_ctrl_CD14+ Monocytes</th>\n",
       "      <td>37.0</td>\n",
       "      <td>815.0</td>\n",
       "      <td>136.0</td>\n",
       "      <td>161.0</td>\n",
       "      <td>115.0</td>\n",
       "      <td>48.0</td>\n",
       "      <td>688.0</td>\n",
       "      <td>85.0</td>\n",
       "      <td>152.0</td>\n",
       "      <td>40.0</td>\n",
       "      <td>...</td>\n",
       "      <td>3.0</td>\n",
       "      <td>45.0</td>\n",
       "      <td>12.0</td>\n",
       "      <td>736.0</td>\n",
       "      <td>26.0</td>\n",
       "      <td>210.0</td>\n",
       "      <td>22.0</td>\n",
       "      <td>238.0</td>\n",
       "      <td>48.0</td>\n",
       "      <td>519.0</td>\n",
       "    </tr>\n",
       "  </tbody>\n",
       "</table>\n",
       "<p>5 rows × 1966 columns</p>\n",
       "</div>"
      ],
      "text/plain": [
       "                                   HP1BP3   GSTO1  PPDPF  TGFBI  TMED9  PSMC2  \\\n",
       "patient_1015_ctrl_CD14+ Monocytes   123.0  2091.0  646.0  329.0  308.0  150.0   \n",
       "patient_1015_stim_CD14+ Monocytes    61.0  2396.0  620.0  121.0  160.0  118.0   \n",
       "patient_1016_ctrl_CD14+ Monocytes    67.0   999.0  213.0  211.0  112.0   63.0   \n",
       "patient_1016_stim_CD14+ Monocytes    29.0  1018.0  167.0  111.0   49.0   45.0   \n",
       "patient_101_ctrl_CD14+ Monocytes     37.0   815.0  136.0  161.0  115.0   48.0   \n",
       "\n",
       "                                    ARPC3   OAZ2  SUMO2  SRSF11  ...  \\\n",
       "patient_1015_ctrl_CD14+ Monocytes  2051.0  241.0  521.0   153.0  ...   \n",
       "patient_1015_stim_CD14+ Monocytes  1497.0   71.0  346.0   113.0  ...   \n",
       "patient_1016_ctrl_CD14+ Monocytes   909.0   85.0  235.0    59.0  ...   \n",
       "patient_1016_stim_CD14+ Monocytes   685.0   35.0  173.0    45.0  ...   \n",
       "patient_101_ctrl_CD14+ Monocytes    688.0   85.0  152.0    40.0  ...   \n",
       "\n",
       "                                   TNFSF13B  PPT1  PFKFB3  HLA-DRB1  SLC39A1  \\\n",
       "patient_1015_ctrl_CD14+ Monocytes     127.0  98.0    57.0    4768.0     77.0   \n",
       "patient_1015_stim_CD14+ Monocytes    2626.0  52.0   115.0    5111.0     50.0   \n",
       "patient_1016_ctrl_CD14+ Monocytes     115.0  50.0    30.0    1829.0     26.0   \n",
       "patient_1016_stim_CD14+ Monocytes    1330.0  37.0    36.0    1887.0     20.0   \n",
       "patient_101_ctrl_CD14+ Monocytes        3.0  45.0    12.0     736.0     26.0   \n",
       "\n",
       "                                   ASAH1  LDHB  PDIA3   TUFM  COX4I1  \n",
       "patient_1015_ctrl_CD14+ Monocytes  415.0  84.0  605.0  245.0  1787.0  \n",
       "patient_1015_stim_CD14+ Monocytes  317.0  47.0  546.0   72.0   910.0  \n",
       "patient_1016_ctrl_CD14+ Monocytes  227.0  72.0  245.0   89.0  1058.0  \n",
       "patient_1016_stim_CD14+ Monocytes  145.0  40.0  202.0   31.0   519.0  \n",
       "patient_101_ctrl_CD14+ Monocytes   210.0  22.0  238.0   48.0   519.0  \n",
       "\n",
       "[5 rows x 1966 columns]"
      ]
     },
     "execution_count": 27,
     "metadata": {},
     "output_type": "execute_result"
    }
   ],
   "source": [
    "# Insepct, always inspect...\n",
    "counts_df.head()"
   ]
  },
  {
   "cell_type": "code",
   "execution_count": 28,
   "id": "ce8c9509-3fd1-4a1c-af25-861346f05fc8",
   "metadata": {},
   "outputs": [],
   "source": [
    "# We also need the metadata in a corresponding format with sample as index\n",
    "metadata_df = mono_pb.obs"
   ]
  },
  {
   "cell_type": "code",
   "execution_count": 29,
   "id": "46dd653b-319b-4b36-975f-6bdd1f4c5011",
   "metadata": {},
   "outputs": [
    {
     "data": {
      "text/html": [
       "<div>\n",
       "<style scoped>\n",
       "    .dataframe tbody tr th:only-of-type {\n",
       "        vertical-align: middle;\n",
       "    }\n",
       "\n",
       "    .dataframe tbody tr th {\n",
       "        vertical-align: top;\n",
       "    }\n",
       "\n",
       "    .dataframe thead th {\n",
       "        text-align: right;\n",
       "    }\n",
       "</style>\n",
       "<table border=\"1\" class=\"dataframe\">\n",
       "  <thead>\n",
       "    <tr style=\"text-align: right;\">\n",
       "      <th></th>\n",
       "      <th>sample</th>\n",
       "      <th>cell_type</th>\n",
       "      <th>label</th>\n",
       "      <th>replicate</th>\n",
       "      <th>psbulk_cells</th>\n",
       "      <th>psbulk_counts</th>\n",
       "    </tr>\n",
       "  </thead>\n",
       "  <tbody>\n",
       "    <tr>\n",
       "      <th>patient_1015_ctrl_CD14+ Monocytes</th>\n",
       "      <td>patient_1015_ctrl</td>\n",
       "      <td>CD14+ Monocytes</td>\n",
       "      <td>ctrl</td>\n",
       "      <td>patient_1015</td>\n",
       "      <td>859.0</td>\n",
       "      <td>1793578.0</td>\n",
       "    </tr>\n",
       "    <tr>\n",
       "      <th>patient_1015_stim_CD14+ Monocytes</th>\n",
       "      <td>patient_1015_stim</td>\n",
       "      <td>CD14+ Monocytes</td>\n",
       "      <td>stim</td>\n",
       "      <td>patient_1015</td>\n",
       "      <td>718.0</td>\n",
       "      <td>1759808.0</td>\n",
       "    </tr>\n",
       "    <tr>\n",
       "      <th>patient_1016_ctrl_CD14+ Monocytes</th>\n",
       "      <td>patient_1016_ctrl</td>\n",
       "      <td>CD14+ Monocytes</td>\n",
       "      <td>ctrl</td>\n",
       "      <td>patient_1016</td>\n",
       "      <td>393.0</td>\n",
       "      <td>742765.0</td>\n",
       "    </tr>\n",
       "    <tr>\n",
       "      <th>patient_1016_stim_CD14+ Monocytes</th>\n",
       "      <td>patient_1016_stim</td>\n",
       "      <td>CD14+ Monocytes</td>\n",
       "      <td>stim</td>\n",
       "      <td>patient_1016</td>\n",
       "      <td>355.0</td>\n",
       "      <td>732718.0</td>\n",
       "    </tr>\n",
       "    <tr>\n",
       "      <th>patient_101_ctrl_CD14+ Monocytes</th>\n",
       "      <td>patient_101_ctrl</td>\n",
       "      <td>CD14+ Monocytes</td>\n",
       "      <td>ctrl</td>\n",
       "      <td>patient_101</td>\n",
       "      <td>207.0</td>\n",
       "      <td>531210.0</td>\n",
       "    </tr>\n",
       "  </tbody>\n",
       "</table>\n",
       "</div>"
      ],
      "text/plain": [
       "                                              sample        cell_type label  \\\n",
       "patient_1015_ctrl_CD14+ Monocytes  patient_1015_ctrl  CD14+ Monocytes  ctrl   \n",
       "patient_1015_stim_CD14+ Monocytes  patient_1015_stim  CD14+ Monocytes  stim   \n",
       "patient_1016_ctrl_CD14+ Monocytes  patient_1016_ctrl  CD14+ Monocytes  ctrl   \n",
       "patient_1016_stim_CD14+ Monocytes  patient_1016_stim  CD14+ Monocytes  stim   \n",
       "patient_101_ctrl_CD14+ Monocytes    patient_101_ctrl  CD14+ Monocytes  ctrl   \n",
       "\n",
       "                                      replicate  psbulk_cells  psbulk_counts  \n",
       "patient_1015_ctrl_CD14+ Monocytes  patient_1015         859.0      1793578.0  \n",
       "patient_1015_stim_CD14+ Monocytes  patient_1015         718.0      1759808.0  \n",
       "patient_1016_ctrl_CD14+ Monocytes  patient_1016         393.0       742765.0  \n",
       "patient_1016_stim_CD14+ Monocytes  patient_1016         355.0       732718.0  \n",
       "patient_101_ctrl_CD14+ Monocytes    patient_101         207.0       531210.0  "
      ]
     },
     "execution_count": 29,
     "metadata": {},
     "output_type": "execute_result"
    }
   ],
   "source": [
    "# Inspect!\n",
    "metadata_df.head()"
   ]
  },
  {
   "cell_type": "code",
   "execution_count": 30,
   "id": "b0441d80-8f81-4452-8176-e9eb7be536dc",
   "metadata": {},
   "outputs": [
    {
     "data": {
      "text/plain": [
       "AnnData object with n_obs × n_vars = 16 × 1966\n",
       "    obs: 'sample', 'cell_type', 'label', 'replicate', 'psbulk_cells', 'psbulk_counts'\n",
       "    var: 'gene_ids', 'feature_types', 'n_cells'\n",
       "    layers: 'psbulk_props'"
      ]
     },
     "execution_count": 30,
     "metadata": {},
     "output_type": "execute_result"
    }
   ],
   "source": [
    "mono_pb"
   ]
  },
  {
   "cell_type": "markdown",
   "id": "53eed7ef-9fda-4980-98ed-b6a6addb4dfe",
   "metadata": {},
   "source": [
    "#### Now for the actual differential expression testing!\n",
    "The steps below follow the PyDESeq2 tutorial at https://pydeseq2.readthedocs.io/en/stable/auto_examples/plot_minimal_pydeseq2_pipeline.html#sphx-glr-auto-examples-plot-minimal-pydeseq2-pipeline-py which you can visit for further info.\n",
    "The important part below is the definition of the design matrix, i.e. which covariate we expect the gene expression to depend on. In our case, this is the metadata entry \"label\" which represents the conditions control vs. stimulated."
   ]
  },
  {
   "cell_type": "code",
   "execution_count": 31,
   "id": "b62dcb3e-e9d3-4168-9a00-c261a1d08774",
   "metadata": {},
   "outputs": [],
   "source": [
    "# First step - initialize a DeSeqDataSet, the object which holds our data and later on also the results\n",
    "inference = DefaultInference(n_cpus=None)\n",
    "dds = DeseqDataSet(\n",
    "    counts=counts_df,\n",
    "    metadata=metadata_df,\n",
    "    design=\"~label\",\n",
    "    refit_cooks=True,\n",
    "    inference=inference,\n",
    ")"
   ]
  },
  {
   "cell_type": "code",
   "execution_count": 32,
   "id": "5fca01fe-b544-444a-a269-2c9f14589357",
   "metadata": {},
   "outputs": [
    {
     "name": "stdout",
     "output_type": "stream",
     "text": [
      "Using None as control genes, passed at DeseqDataSet initialization\n"
     ]
    },
    {
     "name": "stderr",
     "output_type": "stream",
     "text": [
      "Fitting size factors...\n",
      "... done in 0.00 seconds.\n",
      "\n",
      "Fitting dispersions...\n",
      "... done in 0.13 seconds.\n",
      "\n",
      "Fitting dispersion trend curve...\n",
      "/opt/homebrew/Caskroom/miniforge/base/envs/scrnaseq/lib/python3.10/site-packages/pydeseq2/dds.py:807: UserWarning: The dispersion trend curve fitting did not converge. Switching to a mean-based dispersion trend.\n",
      "  self._fit_parametric_dispersion_trend(vst)\n",
      "... done in 0.02 seconds.\n",
      "\n",
      "Fitting MAP dispersions...\n",
      "... done in 0.15 seconds.\n",
      "\n",
      "Fitting LFCs...\n",
      "... done in 0.09 seconds.\n",
      "\n",
      "Calculating cook's distance...\n",
      "... done in 0.00 seconds.\n",
      "\n",
      "Replacing 0 outlier genes.\n",
      "\n"
     ]
    }
   ],
   "source": [
    "# Second step - fitting dispersions, size factors etc for each gene\n",
    "dds.deseq2()"
   ]
  },
  {
   "cell_type": "code",
   "execution_count": 33,
   "id": "c35d75f5-028c-4d76-be58-ff9830ec0e1c",
   "metadata": {},
   "outputs": [
    {
     "data": {
      "text/plain": [
       "AnnData object with n_obs × n_vars = 16 × 1966\n",
       "    obs: 'sample', 'cell_type', 'label', 'replicate', 'psbulk_cells', 'psbulk_counts', 'size_factors', 'replaceable'\n",
       "    var: '_normed_means', 'non_zero', '_MoM_dispersions', 'genewise_dispersions', '_genewise_converged', 'fitted_dispersions', 'MAP_dispersions', '_MAP_converged', 'dispersions', '_outlier_genes', '_LFC_converged', 'replaced', 'refitted', '_pvalue_cooks_outlier'\n",
       "    uns: 'mean_disp', 'disp_function_type', '_squared_logres', 'prior_disp_var'\n",
       "    obsm: 'design_matrix', '_mu_LFC', '_hat_diagonals'\n",
       "    varm: 'LFC'\n",
       "    layers: 'normed_counts', '_mu_hat', 'cooks'"
      ]
     },
     "execution_count": 33,
     "metadata": {},
     "output_type": "execute_result"
    }
   ],
   "source": [
    "# Never hurts to inspect the object (actually, dds objects use AnnData as a backbone!)\n",
    "dds"
   ]
  },
  {
   "cell_type": "code",
   "execution_count": 34,
   "id": "d7ef7fd4-0a0c-4611-8559-d032d0dc104a",
   "metadata": {},
   "outputs": [
    {
     "name": "stdout",
     "output_type": "stream",
     "text": [
      "HP1BP3    0.033615\n",
      "GSTO1     0.017681\n",
      "PPDPF     0.034626\n",
      "TGFBI     0.085770\n",
      "TMED9     0.033395\n",
      "            ...   \n",
      "ASAH1     0.071468\n",
      "LDHB      0.081602\n",
      "PDIA3     0.030650\n",
      "TUFM      0.033400\n",
      "COX4I1    0.014576\n",
      "Name: dispersions, Length: 1966, dtype: float64\n",
      "        Intercept  label[T.stim]\n",
      "HP1BP3   3.836951      -0.578253\n",
      "GSTO1    6.718117       0.405246\n",
      "PPDPF    5.153116       0.232332\n",
      "TGFBI    5.148733      -0.706065\n",
      "TMED9    4.745684      -0.462913\n",
      "...           ...            ...\n",
      "ASAH1    5.082731       0.282858\n",
      "LDHB     3.708821      -0.157141\n",
      "PDIA3    5.552801       0.167003\n",
      "TUFM     4.121777      -0.836596\n",
      "COX4I1   6.503357      -0.392565\n",
      "\n",
      "[1966 rows x 2 columns]\n"
     ]
    }
   ],
   "source": [
    "# We can use anndata-like calls to inspect fitted dispersions and log fold changes:\n",
    "print(dds.var[\"dispersions\"])\n",
    "print(dds.varm[\"LFC\"])"
   ]
  },
  {
   "cell_type": "code",
   "execution_count": 35,
   "id": "c59358de-0453-4419-be84-882d17b637de",
   "metadata": {},
   "outputs": [],
   "source": [
    "# Third step - no we use the fitted dispersions and LFCs to do actual statistical tests.\n",
    "# For this, a new class is introduced: DeSeqStats objects.\n",
    "ds = DeseqStats(dds, contrast=[\"label\", \"ctrl\", \"stim\"], inference=inference)"
   ]
  },
  {
   "cell_type": "code",
   "execution_count": 36,
   "id": "47dabf10-adb2-48e0-bc4e-d3e2cf856fee",
   "metadata": {},
   "outputs": [
    {
     "name": "stderr",
     "output_type": "stream",
     "text": [
      "Running Wald tests...\n",
      "... done in 0.08 seconds.\n",
      "\n"
     ]
    },
    {
     "name": "stdout",
     "output_type": "stream",
     "text": [
      "Log2 fold change & Wald test p-value: label ctrl vs stim\n",
      "           baseMean  log2FoldChange     lfcSE      stat        pvalue  \\\n",
      "HP1BP3    36.611101        0.834243  0.182875  4.561829  5.070987e-06   \n",
      "GSTO1   1036.364952       -0.584647  0.098811 -5.916809  3.282474e-09   \n",
      "PPDPF    193.887008       -0.335184  0.144510 -2.319456  2.037034e-02   \n",
      "TGFBI    129.337401        1.018636  0.222843  4.571096  4.851806e-06   \n",
      "TMED9     93.781581        0.667843  0.153570  4.348783  1.368950e-05   \n",
      "...             ...             ...       ...       ...           ...   \n",
      "ASAH1    187.956622       -0.408078  0.200572 -2.034569  4.189429e-02   \n",
      "LDHB      37.439326        0.226706  0.238786  0.949408  3.424130e-01   \n",
      "PDIA3    282.421252       -0.240935  0.133949 -1.798711  7.206434e-02   \n",
      "TUFM      43.063570        1.206952  0.178348  6.767399  1.311179e-11   \n",
      "COX4I1   558.525610        0.566351  0.092929  6.094433  1.098261e-09   \n",
      "\n",
      "                padj  \n",
      "HP1BP3  1.227778e-05  \n",
      "GSTO1   1.124276e-08  \n",
      "PPDPF   2.944712e-02  \n",
      "TGFBI   1.179067e-05  \n",
      "TMED9   3.151470e-05  \n",
      "...              ...  \n",
      "ASAH1   5.779942e-02  \n",
      "LDHB    3.920699e-01  \n",
      "PDIA3   9.559953e-02  \n",
      "TUFM    5.543608e-11  \n",
      "COX4I1  3.947313e-09  \n",
      "\n",
      "[1966 rows x 6 columns]\n"
     ]
    }
   ],
   "source": [
    "# using this object, a Wald test can be run and results displayed like this:\n",
    "ds.summary()"
   ]
  },
  {
   "cell_type": "markdown",
   "id": "b80c4efb-b110-424a-9199-a8ae13e9956c",
   "metadata": {},
   "source": [
    "### Exploring and plotting results\n",
    "Results of the tests are available in tabular form in `ds.results_df`. "
   ]
  },
  {
   "cell_type": "code",
   "execution_count": 37,
   "id": "55df9c91-2a53-4382-a6c3-a2a72316cb62",
   "metadata": {},
   "outputs": [],
   "source": [
    "# for ease of access, we will first reassign the result dataframe\n",
    "results_df = ds.results_df"
   ]
  },
  {
   "cell_type": "code",
   "execution_count": 38,
   "id": "34e98959-8777-477f-a3ea-d01077ee2983",
   "metadata": {},
   "outputs": [
    {
     "data": {
      "text/html": [
       "<div>\n",
       "<style scoped>\n",
       "    .dataframe tbody tr th:only-of-type {\n",
       "        vertical-align: middle;\n",
       "    }\n",
       "\n",
       "    .dataframe tbody tr th {\n",
       "        vertical-align: top;\n",
       "    }\n",
       "\n",
       "    .dataframe thead th {\n",
       "        text-align: right;\n",
       "    }\n",
       "</style>\n",
       "<table border=\"1\" class=\"dataframe\">\n",
       "  <thead>\n",
       "    <tr style=\"text-align: right;\">\n",
       "      <th></th>\n",
       "      <th>baseMean</th>\n",
       "      <th>log2FoldChange</th>\n",
       "      <th>lfcSE</th>\n",
       "      <th>stat</th>\n",
       "      <th>pvalue</th>\n",
       "      <th>padj</th>\n",
       "    </tr>\n",
       "  </thead>\n",
       "  <tbody>\n",
       "    <tr>\n",
       "      <th>HP1BP3</th>\n",
       "      <td>36.611101</td>\n",
       "      <td>0.834243</td>\n",
       "      <td>0.182875</td>\n",
       "      <td>4.561829</td>\n",
       "      <td>5.070987e-06</td>\n",
       "      <td>1.227778e-05</td>\n",
       "    </tr>\n",
       "    <tr>\n",
       "      <th>GSTO1</th>\n",
       "      <td>1036.364952</td>\n",
       "      <td>-0.584647</td>\n",
       "      <td>0.098811</td>\n",
       "      <td>-5.916809</td>\n",
       "      <td>3.282474e-09</td>\n",
       "      <td>1.124276e-08</td>\n",
       "    </tr>\n",
       "    <tr>\n",
       "      <th>PPDPF</th>\n",
       "      <td>193.887008</td>\n",
       "      <td>-0.335184</td>\n",
       "      <td>0.144510</td>\n",
       "      <td>-2.319456</td>\n",
       "      <td>2.037034e-02</td>\n",
       "      <td>2.944712e-02</td>\n",
       "    </tr>\n",
       "    <tr>\n",
       "      <th>TGFBI</th>\n",
       "      <td>129.337401</td>\n",
       "      <td>1.018636</td>\n",
       "      <td>0.222843</td>\n",
       "      <td>4.571096</td>\n",
       "      <td>4.851806e-06</td>\n",
       "      <td>1.179067e-05</td>\n",
       "    </tr>\n",
       "    <tr>\n",
       "      <th>TMED9</th>\n",
       "      <td>93.781581</td>\n",
       "      <td>0.667843</td>\n",
       "      <td>0.153570</td>\n",
       "      <td>4.348783</td>\n",
       "      <td>1.368950e-05</td>\n",
       "      <td>3.151470e-05</td>\n",
       "    </tr>\n",
       "  </tbody>\n",
       "</table>\n",
       "</div>"
      ],
      "text/plain": [
       "           baseMean  log2FoldChange     lfcSE      stat        pvalue  \\\n",
       "HP1BP3    36.611101        0.834243  0.182875  4.561829  5.070987e-06   \n",
       "GSTO1   1036.364952       -0.584647  0.098811 -5.916809  3.282474e-09   \n",
       "PPDPF    193.887008       -0.335184  0.144510 -2.319456  2.037034e-02   \n",
       "TGFBI    129.337401        1.018636  0.222843  4.571096  4.851806e-06   \n",
       "TMED9     93.781581        0.667843  0.153570  4.348783  1.368950e-05   \n",
       "\n",
       "                padj  \n",
       "HP1BP3  1.227778e-05  \n",
       "GSTO1   1.124276e-08  \n",
       "PPDPF   2.944712e-02  \n",
       "TGFBI   1.179067e-05  \n",
       "TMED9   3.151470e-05  "
      ]
     },
     "execution_count": 38,
     "metadata": {},
     "output_type": "execute_result"
    }
   ],
   "source": [
    "# inspect\n",
    "results_df.head()"
   ]
  },
  {
   "cell_type": "markdown",
   "id": "2a0905a5-79c1-437e-baca-3f52c6f1894e",
   "metadata": {},
   "source": [
    "#### 1. Compare top genes by different criteria"
   ]
  },
  {
   "cell_type": "code",
   "execution_count": 39,
   "id": "bc7633d6-ea6d-478f-b9bd-63e516a74b2a",
   "metadata": {},
   "outputs": [
    {
     "data": {
      "text/html": [
       "<div>\n",
       "<style scoped>\n",
       "    .dataframe tbody tr th:only-of-type {\n",
       "        vertical-align: middle;\n",
       "    }\n",
       "\n",
       "    .dataframe tbody tr th {\n",
       "        vertical-align: top;\n",
       "    }\n",
       "\n",
       "    .dataframe thead th {\n",
       "        text-align: right;\n",
       "    }\n",
       "</style>\n",
       "<table border=\"1\" class=\"dataframe\">\n",
       "  <thead>\n",
       "    <tr style=\"text-align: right;\">\n",
       "      <th></th>\n",
       "      <th>baseMean</th>\n",
       "      <th>log2FoldChange</th>\n",
       "      <th>lfcSE</th>\n",
       "      <th>stat</th>\n",
       "      <th>pvalue</th>\n",
       "      <th>padj</th>\n",
       "    </tr>\n",
       "  </thead>\n",
       "  <tbody>\n",
       "    <tr>\n",
       "      <th>IFITM2</th>\n",
       "      <td>492.727177</td>\n",
       "      <td>-4.671062</td>\n",
       "      <td>0.147902</td>\n",
       "      <td>-31.582234</td>\n",
       "      <td>6.475329e-219</td>\n",
       "      <td>1.273050e-215</td>\n",
       "    </tr>\n",
       "    <tr>\n",
       "      <th>IL1RN</th>\n",
       "      <td>901.540632</td>\n",
       "      <td>-6.465510</td>\n",
       "      <td>0.215576</td>\n",
       "      <td>-29.991735</td>\n",
       "      <td>1.257795e-197</td>\n",
       "      <td>1.236413e-194</td>\n",
       "    </tr>\n",
       "    <tr>\n",
       "      <th>SSB</th>\n",
       "      <td>366.455638</td>\n",
       "      <td>-3.338010</td>\n",
       "      <td>0.114119</td>\n",
       "      <td>-29.250130</td>\n",
       "      <td>4.473253e-188</td>\n",
       "      <td>2.931472e-185</td>\n",
       "    </tr>\n",
       "    <tr>\n",
       "      <th>DYNLT1</th>\n",
       "      <td>949.541445</td>\n",
       "      <td>-2.612186</td>\n",
       "      <td>0.100374</td>\n",
       "      <td>-26.024571</td>\n",
       "      <td>2.610956e-149</td>\n",
       "      <td>1.283285e-146</td>\n",
       "    </tr>\n",
       "    <tr>\n",
       "      <th>RTCB</th>\n",
       "      <td>152.812562</td>\n",
       "      <td>-3.433235</td>\n",
       "      <td>0.132294</td>\n",
       "      <td>-25.951560</td>\n",
       "      <td>1.746063e-148</td>\n",
       "      <td>6.865520e-146</td>\n",
       "    </tr>\n",
       "    <tr>\n",
       "      <th>DDX58</th>\n",
       "      <td>201.490159</td>\n",
       "      <td>-4.949796</td>\n",
       "      <td>0.194094</td>\n",
       "      <td>-25.501996</td>\n",
       "      <td>1.873295e-143</td>\n",
       "      <td>6.138163e-141</td>\n",
       "    </tr>\n",
       "    <tr>\n",
       "      <th>NAPA</th>\n",
       "      <td>174.397930</td>\n",
       "      <td>-2.265762</td>\n",
       "      <td>0.095903</td>\n",
       "      <td>-23.625513</td>\n",
       "      <td>2.107766e-123</td>\n",
       "      <td>5.919811e-121</td>\n",
       "    </tr>\n",
       "    <tr>\n",
       "      <th>TMEM50A</th>\n",
       "      <td>377.671256</td>\n",
       "      <td>-1.653756</td>\n",
       "      <td>0.077396</td>\n",
       "      <td>-21.367335</td>\n",
       "      <td>2.690594e-101</td>\n",
       "      <td>6.612134e-99</td>\n",
       "    </tr>\n",
       "    <tr>\n",
       "      <th>OASL</th>\n",
       "      <td>476.872558</td>\n",
       "      <td>-4.307640</td>\n",
       "      <td>0.202752</td>\n",
       "      <td>-21.245866</td>\n",
       "      <td>3.600021e-100</td>\n",
       "      <td>7.864046e-98</td>\n",
       "    </tr>\n",
       "    <tr>\n",
       "      <th>PLSCR1</th>\n",
       "      <td>785.849240</td>\n",
       "      <td>-2.893615</td>\n",
       "      <td>0.136402</td>\n",
       "      <td>-21.213891</td>\n",
       "      <td>7.108254e-100</td>\n",
       "      <td>1.397483e-97</td>\n",
       "    </tr>\n",
       "  </tbody>\n",
       "</table>\n",
       "</div>"
      ],
      "text/plain": [
       "           baseMean  log2FoldChange     lfcSE       stat         pvalue  \\\n",
       "IFITM2   492.727177       -4.671062  0.147902 -31.582234  6.475329e-219   \n",
       "IL1RN    901.540632       -6.465510  0.215576 -29.991735  1.257795e-197   \n",
       "SSB      366.455638       -3.338010  0.114119 -29.250130  4.473253e-188   \n",
       "DYNLT1   949.541445       -2.612186  0.100374 -26.024571  2.610956e-149   \n",
       "RTCB     152.812562       -3.433235  0.132294 -25.951560  1.746063e-148   \n",
       "DDX58    201.490159       -4.949796  0.194094 -25.501996  1.873295e-143   \n",
       "NAPA     174.397930       -2.265762  0.095903 -23.625513  2.107766e-123   \n",
       "TMEM50A  377.671256       -1.653756  0.077396 -21.367335  2.690594e-101   \n",
       "OASL     476.872558       -4.307640  0.202752 -21.245866  3.600021e-100   \n",
       "PLSCR1   785.849240       -2.893615  0.136402 -21.213891  7.108254e-100   \n",
       "\n",
       "                  padj  \n",
       "IFITM2   1.273050e-215  \n",
       "IL1RN    1.236413e-194  \n",
       "SSB      2.931472e-185  \n",
       "DYNLT1   1.283285e-146  \n",
       "RTCB     6.865520e-146  \n",
       "DDX58    6.138163e-141  \n",
       "NAPA     5.919811e-121  \n",
       "TMEM50A   6.612134e-99  \n",
       "OASL      7.864046e-98  \n",
       "PLSCR1    1.397483e-97  "
      ]
     },
     "execution_count": 39,
     "metadata": {},
     "output_type": "execute_result"
    }
   ],
   "source": [
    "# sort the dataframe by adj p val and inspect the top 10 genes\n",
    "results_df.sort_values('padj').head(10)"
   ]
  },
  {
   "cell_type": "code",
   "execution_count": 40,
   "id": "6016b8f4-4fa5-4743-b668-bef26532690b",
   "metadata": {},
   "outputs": [
    {
     "data": {
      "text/html": [
       "<div>\n",
       "<style scoped>\n",
       "    .dataframe tbody tr th:only-of-type {\n",
       "        vertical-align: middle;\n",
       "    }\n",
       "\n",
       "    .dataframe tbody tr th {\n",
       "        vertical-align: top;\n",
       "    }\n",
       "\n",
       "    .dataframe thead th {\n",
       "        text-align: right;\n",
       "    }\n",
       "</style>\n",
       "<table border=\"1\" class=\"dataframe\">\n",
       "  <thead>\n",
       "    <tr style=\"text-align: right;\">\n",
       "      <th></th>\n",
       "      <th>baseMean</th>\n",
       "      <th>log2FoldChange</th>\n",
       "      <th>lfcSE</th>\n",
       "      <th>stat</th>\n",
       "      <th>pvalue</th>\n",
       "      <th>padj</th>\n",
       "    </tr>\n",
       "  </thead>\n",
       "  <tbody>\n",
       "    <tr>\n",
       "      <th>IL1B</th>\n",
       "      <td>340.877884</td>\n",
       "      <td>3.794368</td>\n",
       "      <td>0.466707</td>\n",
       "      <td>8.130081</td>\n",
       "      <td>4.290036e-16</td>\n",
       "      <td>2.495329e-15</td>\n",
       "    </tr>\n",
       "    <tr>\n",
       "      <th>PHLDA1</th>\n",
       "      <td>123.085159</td>\n",
       "      <td>2.665452</td>\n",
       "      <td>0.277408</td>\n",
       "      <td>9.608419</td>\n",
       "      <td>7.367152e-22</td>\n",
       "      <td>5.911763e-21</td>\n",
       "    </tr>\n",
       "    <tr>\n",
       "      <th>RGCC</th>\n",
       "      <td>126.093971</td>\n",
       "      <td>2.647830</td>\n",
       "      <td>0.172643</td>\n",
       "      <td>15.337057</td>\n",
       "      <td>4.323576e-53</td>\n",
       "      <td>1.491254e-51</td>\n",
       "    </tr>\n",
       "    <tr>\n",
       "      <th>IL8</th>\n",
       "      <td>1795.881085</td>\n",
       "      <td>2.626359</td>\n",
       "      <td>0.251836</td>\n",
       "      <td>10.428855</td>\n",
       "      <td>1.830819e-25</td>\n",
       "      <td>1.827102e-24</td>\n",
       "    </tr>\n",
       "    <tr>\n",
       "      <th>PID1</th>\n",
       "      <td>87.811897</td>\n",
       "      <td>2.621668</td>\n",
       "      <td>0.236063</td>\n",
       "      <td>11.105803</td>\n",
       "      <td>1.175559e-28</td>\n",
       "      <td>1.426635e-27</td>\n",
       "    </tr>\n",
       "    <tr>\n",
       "      <th>CTB-61M7.2</th>\n",
       "      <td>54.054122</td>\n",
       "      <td>2.590023</td>\n",
       "      <td>0.288974</td>\n",
       "      <td>8.962826</td>\n",
       "      <td>3.164606e-19</td>\n",
       "      <td>2.206247e-18</td>\n",
       "    </tr>\n",
       "    <tr>\n",
       "      <th>CD14</th>\n",
       "      <td>558.186313</td>\n",
       "      <td>2.521284</td>\n",
       "      <td>0.188146</td>\n",
       "      <td>13.400660</td>\n",
       "      <td>5.992807e-41</td>\n",
       "      <td>1.132871e-39</td>\n",
       "    </tr>\n",
       "    <tr>\n",
       "      <th>EIF3L</th>\n",
       "      <td>59.556866</td>\n",
       "      <td>2.415964</td>\n",
       "      <td>0.207788</td>\n",
       "      <td>11.627062</td>\n",
       "      <td>3.002543e-31</td>\n",
       "      <td>4.157042e-30</td>\n",
       "    </tr>\n",
       "    <tr>\n",
       "      <th>GLIPR1</th>\n",
       "      <td>105.438447</td>\n",
       "      <td>2.368434</td>\n",
       "      <td>0.163949</td>\n",
       "      <td>14.446144</td>\n",
       "      <td>2.651201e-47</td>\n",
       "      <td>6.858237e-46</td>\n",
       "    </tr>\n",
       "    <tr>\n",
       "      <th>IER3</th>\n",
       "      <td>207.150442</td>\n",
       "      <td>2.325803</td>\n",
       "      <td>0.239121</td>\n",
       "      <td>9.726483</td>\n",
       "      <td>2.324931e-22</td>\n",
       "      <td>1.928614e-21</td>\n",
       "    </tr>\n",
       "  </tbody>\n",
       "</table>\n",
       "</div>"
      ],
      "text/plain": [
       "               baseMean  log2FoldChange     lfcSE       stat        pvalue  \\\n",
       "IL1B         340.877884        3.794368  0.466707   8.130081  4.290036e-16   \n",
       "PHLDA1       123.085159        2.665452  0.277408   9.608419  7.367152e-22   \n",
       "RGCC         126.093971        2.647830  0.172643  15.337057  4.323576e-53   \n",
       "IL8         1795.881085        2.626359  0.251836  10.428855  1.830819e-25   \n",
       "PID1          87.811897        2.621668  0.236063  11.105803  1.175559e-28   \n",
       "CTB-61M7.2    54.054122        2.590023  0.288974   8.962826  3.164606e-19   \n",
       "CD14         558.186313        2.521284  0.188146  13.400660  5.992807e-41   \n",
       "EIF3L         59.556866        2.415964  0.207788  11.627062  3.002543e-31   \n",
       "GLIPR1       105.438447        2.368434  0.163949  14.446144  2.651201e-47   \n",
       "IER3         207.150442        2.325803  0.239121   9.726483  2.324931e-22   \n",
       "\n",
       "                    padj  \n",
       "IL1B        2.495329e-15  \n",
       "PHLDA1      5.911763e-21  \n",
       "RGCC        1.491254e-51  \n",
       "IL8         1.827102e-24  \n",
       "PID1        1.426635e-27  \n",
       "CTB-61M7.2  2.206247e-18  \n",
       "CD14        1.132871e-39  \n",
       "EIF3L       4.157042e-30  \n",
       "GLIPR1      6.858237e-46  \n",
       "IER3        1.928614e-21  "
      ]
     },
     "execution_count": 40,
     "metadata": {},
     "output_type": "execute_result"
    }
   ],
   "source": [
    "# sort the dataframe by highest fold change and inspect the top 10 genes\n",
    "results_df.sort_values('log2FoldChange', ascending=False).head(10)"
   ]
  },
  {
   "cell_type": "code",
   "execution_count": 41,
   "id": "16abc24d-56a4-4619-b3d3-cf47fb1db528",
   "metadata": {},
   "outputs": [
    {
     "data": {
      "text/html": [
       "<div>\n",
       "<style scoped>\n",
       "    .dataframe tbody tr th:only-of-type {\n",
       "        vertical-align: middle;\n",
       "    }\n",
       "\n",
       "    .dataframe tbody tr th {\n",
       "        vertical-align: top;\n",
       "    }\n",
       "\n",
       "    .dataframe thead th {\n",
       "        text-align: right;\n",
       "    }\n",
       "</style>\n",
       "<table border=\"1\" class=\"dataframe\">\n",
       "  <thead>\n",
       "    <tr style=\"text-align: right;\">\n",
       "      <th></th>\n",
       "      <th>baseMean</th>\n",
       "      <th>log2FoldChange</th>\n",
       "      <th>lfcSE</th>\n",
       "      <th>stat</th>\n",
       "      <th>pvalue</th>\n",
       "      <th>padj</th>\n",
       "    </tr>\n",
       "  </thead>\n",
       "  <tbody>\n",
       "    <tr>\n",
       "      <th>ISG15</th>\n",
       "      <td>19278.176250</td>\n",
       "      <td>-7.078443</td>\n",
       "      <td>0.466621</td>\n",
       "      <td>-15.169574</td>\n",
       "      <td>5.624091e-52</td>\n",
       "      <td>1.812617e-50</td>\n",
       "    </tr>\n",
       "    <tr>\n",
       "      <th>IL1RN</th>\n",
       "      <td>901.540632</td>\n",
       "      <td>-6.465510</td>\n",
       "      <td>0.215576</td>\n",
       "      <td>-29.991735</td>\n",
       "      <td>1.257795e-197</td>\n",
       "      <td>1.236413e-194</td>\n",
       "    </tr>\n",
       "    <tr>\n",
       "      <th>IDO1</th>\n",
       "      <td>1563.308309</td>\n",
       "      <td>-5.952475</td>\n",
       "      <td>0.424799</td>\n",
       "      <td>-14.012456</td>\n",
       "      <td>1.308014e-44</td>\n",
       "      <td>2.889388e-43</td>\n",
       "    </tr>\n",
       "    <tr>\n",
       "      <th>APOBEC3A</th>\n",
       "      <td>3853.883401</td>\n",
       "      <td>-5.658929</td>\n",
       "      <td>0.412804</td>\n",
       "      <td>-13.708524</td>\n",
       "      <td>9.027576e-43</td>\n",
       "      <td>1.868233e-41</td>\n",
       "    </tr>\n",
       "    <tr>\n",
       "      <th>MX1</th>\n",
       "      <td>774.667293</td>\n",
       "      <td>-5.613637</td>\n",
       "      <td>0.441098</td>\n",
       "      <td>-12.726500</td>\n",
       "      <td>4.213033e-37</td>\n",
       "      <td>7.329931e-36</td>\n",
       "    </tr>\n",
       "    <tr>\n",
       "      <th>ISG20</th>\n",
       "      <td>3130.620068</td>\n",
       "      <td>-5.410548</td>\n",
       "      <td>0.273825</td>\n",
       "      <td>-19.759160</td>\n",
       "      <td>6.690919e-87</td>\n",
       "      <td>7.737851e-85</td>\n",
       "    </tr>\n",
       "    <tr>\n",
       "      <th>TNFSF13B</th>\n",
       "      <td>626.707813</td>\n",
       "      <td>-5.327740</td>\n",
       "      <td>0.430156</td>\n",
       "      <td>-12.385607</td>\n",
       "      <td>3.127103e-35</td>\n",
       "      <td>5.039250e-34</td>\n",
       "    </tr>\n",
       "    <tr>\n",
       "      <th>IFITM3</th>\n",
       "      <td>2479.392649</td>\n",
       "      <td>-5.312282</td>\n",
       "      <td>0.508213</td>\n",
       "      <td>-10.452870</td>\n",
       "      <td>1.421577e-25</td>\n",
       "      <td>1.448093e-24</td>\n",
       "    </tr>\n",
       "    <tr>\n",
       "      <th>LY6E</th>\n",
       "      <td>1435.983608</td>\n",
       "      <td>-5.192720</td>\n",
       "      <td>0.512127</td>\n",
       "      <td>-10.139526</td>\n",
       "      <td>3.688865e-24</td>\n",
       "      <td>3.470004e-23</td>\n",
       "    </tr>\n",
       "    <tr>\n",
       "      <th>DDX58</th>\n",
       "      <td>201.490159</td>\n",
       "      <td>-4.949796</td>\n",
       "      <td>0.194094</td>\n",
       "      <td>-25.501996</td>\n",
       "      <td>1.873295e-143</td>\n",
       "      <td>6.138163e-141</td>\n",
       "    </tr>\n",
       "  </tbody>\n",
       "</table>\n",
       "</div>"
      ],
      "text/plain": [
       "              baseMean  log2FoldChange     lfcSE       stat         pvalue  \\\n",
       "ISG15     19278.176250       -7.078443  0.466621 -15.169574   5.624091e-52   \n",
       "IL1RN       901.540632       -6.465510  0.215576 -29.991735  1.257795e-197   \n",
       "IDO1       1563.308309       -5.952475  0.424799 -14.012456   1.308014e-44   \n",
       "APOBEC3A   3853.883401       -5.658929  0.412804 -13.708524   9.027576e-43   \n",
       "MX1         774.667293       -5.613637  0.441098 -12.726500   4.213033e-37   \n",
       "ISG20      3130.620068       -5.410548  0.273825 -19.759160   6.690919e-87   \n",
       "TNFSF13B    626.707813       -5.327740  0.430156 -12.385607   3.127103e-35   \n",
       "IFITM3     2479.392649       -5.312282  0.508213 -10.452870   1.421577e-25   \n",
       "LY6E       1435.983608       -5.192720  0.512127 -10.139526   3.688865e-24   \n",
       "DDX58       201.490159       -4.949796  0.194094 -25.501996  1.873295e-143   \n",
       "\n",
       "                   padj  \n",
       "ISG15      1.812617e-50  \n",
       "IL1RN     1.236413e-194  \n",
       "IDO1       2.889388e-43  \n",
       "APOBEC3A   1.868233e-41  \n",
       "MX1        7.329931e-36  \n",
       "ISG20      7.737851e-85  \n",
       "TNFSF13B   5.039250e-34  \n",
       "IFITM3     1.448093e-24  \n",
       "LY6E       3.470004e-23  \n",
       "DDX58     6.138163e-141  "
      ]
     },
     "execution_count": 41,
     "metadata": {},
     "output_type": "execute_result"
    }
   ],
   "source": [
    "# sort the dataframe by lowest fold change and inspect the top 10 genes\n",
    "results_df.sort_values('log2FoldChange', ascending=True).head(10)"
   ]
  },
  {
   "cell_type": "markdown",
   "id": "141966ab-8ae5-4a44-be11-dde7348f693e",
   "metadata": {},
   "source": [
    "Why do these lists differ? Do some genes appear in several lists?"
   ]
  },
  {
   "cell_type": "markdown",
   "id": "ed19546f-e118-4c8a-b9a6-ba1fd0ddf32c",
   "metadata": {},
   "source": [
    "#### 2. Smear plot and volcano plot"
   ]
  },
  {
   "cell_type": "code",
   "execution_count": 42,
   "id": "d933a447-f556-4588-9882-7f39a392cf9a",
   "metadata": {},
   "outputs": [
    {
     "data": {
      "text/plain": [
       "Text(0.5, 1.0, 'Smear Plot (MA Plot)')"
      ]
     },
     "execution_count": 42,
     "metadata": {},
     "output_type": "execute_result"
    },
    {
     "data": {
      "image/png": "[encoded data removed]",
      "text/plain": [
       "<Figure size 640x480 with 1 Axes>"
      ]
     },
     "metadata": {},
     "output_type": "display_data"
    }
   ],
   "source": [
    "# Create smear plot - a 2D scatter plot with log2FoldChange on the y axis and expression on the x Axis\n",
    "# use plt.scatter to achieve this\n",
    "# plot np.log2(results_df['baseMean'] + 1) on the x axis\n",
    "# highlight significant genes, i.e. genes with pdj < 0.5 in red\n",
    "# (a simple way to achieve this is to just plot the relevant genes again in red)\n",
    "avg_expression = results_df['baseMean']  # Average expression\n",
    "log_fold_change = results_df['log2FoldChange']\n",
    "padj = results_df['padj']\n",
    "\n",
    "plt.scatter(np.log2(avg_expression + 1), log_fold_change, \n",
    "           c='lightgray', alpha=0.6, s=1)\n",
    "\n",
    "sig_mask = padj < 0.05\n",
    "plt.scatter(np.log2(avg_expression[sig_mask] + 1), \n",
    "           log_fold_change[sig_mask], c='red', alpha=0.8, s=2)\n",
    "\n",
    "plt.xlabel('log2(baseMean + 1)')\n",
    "plt.ylabel('log2 Fold Change')\n",
    "plt.title('Smear Plot (MA Plot)')\n"
   ]
  },
  {
   "cell_type": "markdown",
   "id": "0690894f-186b-4145-ad40-91cf172bd313",
   "metadata": {},
   "source": [
    "Describe the plot, what is the general behavior we observe for significant results?"
   ]
  },
  {
   "cell_type": "code",
   "execution_count": 43,
   "id": "b283da83-f953-49a7-8dd0-d5f30f9cf131",
   "metadata": {},
   "outputs": [
    {
     "data": {
      "image/png": "[encoded data removed]",
      "text/plain": [
       "<Figure size 400x300 with 1 Axes>"
      ]
     },
     "metadata": {},
     "output_type": "display_data"
    }
   ],
   "source": [
    "# use the function dc.pl.volcano to plot a volcano plot\n",
    "# show the names of the top 10 differentially expressed features\n",
    "# set the significance threshold to 1 log2FoldChange\n",
    "# save the figure to file\n",
    "dc.pl.volcano(results_df, x=\"log2FoldChange\", y=\"pvalue\", top=10, thr_stat=1, save='Kang_monocyte_volcano.png')"
   ]
  },
  {
   "cell_type": "markdown",
   "id": "e674d256-de8e-41b0-90ad-4a668c2aefae",
   "metadata": {},
   "source": [
    "#### 3. Heatmap of top diferentially expressed genes"
   ]
  },
  {
   "cell_type": "code",
   "execution_count": 44,
   "id": "5392590a-1713-4459-addc-3e02e0110fc2",
   "metadata": {},
   "outputs": [],
   "source": [
    "# Find the 10 top genes by FC in the stim group and the 10 top genes by FC in the control group\n",
    "# and combine them into a list\n",
    "l1 = results_df.sort_values('log2FoldChange', ascending=True).head(10).index.tolist()\n",
    "l2 = results_df.sort_values('log2FoldChange', ascending=False).head(10).index.tolist()\n",
    "top_genes = l1+l2"
   ]
  },
  {
   "cell_type": "code",
   "execution_count": 45,
   "id": "b4479be0-65d4-43a8-aceb-1a1038bfceb1",
   "metadata": {},
   "outputs": [],
   "source": [
    "# We want to plot normalized counts which are stored in the dds object.\n",
    "# For better visibility, we add a log version of these counts\n",
    "dds.layers[\"log_normed_counts\"] = np.log(dds.layers[\"normed_counts\"]+1)"
   ]
  },
  {
   "cell_type": "code",
   "execution_count": 46,
   "id": "7637df4c-7847-4819-868d-7c2c7e3ffa87",
   "metadata": {},
   "outputs": [
    {
     "data": {
      "image/png": "[encoded data removed]",
      "text/plain": [
       "<Figure size 1000x373 with 3 Axes>"
      ]
     },
     "metadata": {},
     "output_type": "display_data"
    }
   ],
   "source": [
    "# Plot a heatmap of normalized counts for the top_genes list as a heatmap\n",
    "# Use sc.pl.heatmap on the dds object to accomplish this. use the layer log_normed_counts\n",
    "sc.pl.heatmap(dds, top_genes, groupby='label', swap_axes=True, layer=\"log_normed_counts\")"
   ]
  },
  {
   "cell_type": "code",
   "execution_count": 47,
   "id": "4113ed0c-235b-4185-a40c-2424ed2e7c82",
   "metadata": {},
   "outputs": [
    {
     "data": {
      "text/plain": [
       "Index(['HP1BP3', 'GSTO1', 'PPDPF', 'TGFBI', 'TMED9', 'PSMC2', 'ARPC3', 'OAZ2',\n",
       "       'SUMO2', 'SRSF11',\n",
       "       ...\n",
       "       'TNFSF13B', 'PPT1', 'PFKFB3', 'HLA-DRB1', 'SLC39A1', 'ASAH1', 'LDHB',\n",
       "       'PDIA3', 'TUFM', 'COX4I1'],\n",
       "      dtype='object', length=1966)"
      ]
     },
     "execution_count": 47,
     "metadata": {},
     "output_type": "execute_result"
    }
   ],
   "source": [
    "dds.var_names"
   ]
  },
  {
   "cell_type": "markdown",
   "id": "5ff7407c-4f9e-425a-bc59-6bc33874b75e",
   "metadata": {},
   "source": [
    "#### 4. Individual gene expression plots"
   ]
  },
  {
   "cell_type": "code",
   "execution_count": 48,
   "id": "06a9fddd-02fd-48b9-ba9e-b32be7049d75",
   "metadata": {},
   "outputs": [
    {
     "data": {
      "image/png": "[encoded data removed]",
      "text/plain": [
       "<Figure size 2413.8x480 with 3 Axes>"
      ]
     },
     "metadata": {},
     "output_type": "display_data"
    }
   ],
   "source": [
    "# pick 2 or 3 genes and plot their expression by condition in box plots, use sc.pl.violin for this\n",
    "sc.pl.violin(dds, ['IFITM2', 'IL1B', 'MX1'], groupby='label', inner='box',\n",
    "             layer='log_normed_counts', use_raw=False)"
   ]
  },
  {
   "cell_type": "markdown",
   "id": "964dbcb4-d937-48ff-97c1-719472204c80",
   "metadata": {},
   "source": [
    "#### 5. Gene annotation lookup\n",
    "Look up some of your top genes to find out what pathways they are involved in and what their function is. Here are some ideas to get started:\n",
    "- NCBI Gene: https://www.ncbi.nlm.nih.gov/gene/\n",
    "- UniProt: https://www.uniprot.org/\n",
    "- GeneCards: https://www.genecards.org/  \n",
    "Also, use an AI Chatbot and compare the output to what you found in above databases."
   ]
  },
  {
   "cell_type": "markdown",
   "id": "8b6327a7-0e03-4653-8079-17afada02f8a",
   "metadata": {},
   "source": [
    "#### 6. Simple pathway / GO term investigation\n",
    "You can try to paste your lists into one of the following tools (or another one of your choosing):\n",
    "- Enrichr: https://maayanlab.cloud/Enrichr/\n",
    "- GOrilla https://cbl-gorilla.cs.technion.ac.il/"
   ]
  },
  {
   "cell_type": "code",
   "execution_count": 49,
   "id": "8d69cb47-f6e0-452c-9f28-7cbeea4995c1",
   "metadata": {},
   "outputs": [
    {
     "data": {
      "text/plain": [
       "['IFITM2',\n",
       " 'IL1RN',\n",
       " 'SSB',\n",
       " 'DYNLT1',\n",
       " 'RTCB',\n",
       " 'DDX58',\n",
       " 'NAPA',\n",
       " 'TMEM50A',\n",
       " 'OASL',\n",
       " 'PLSCR1',\n",
       " 'TMSB10',\n",
       " 'SAMD9L',\n",
       " 'HSPA1A',\n",
       " 'PSMA4',\n",
       " 'IRF7',\n",
       " 'IFI16',\n",
       " 'ISG20',\n",
       " 'HSPB1',\n",
       " 'SPATS2L',\n",
       " 'SP110',\n",
       " 'SNX10',\n",
       " 'MYL12A',\n",
       " 'GCH1',\n",
       " 'DRAP1',\n",
       " 'PARP9',\n",
       " 'ATG3',\n",
       " 'NMI',\n",
       " 'TRADD',\n",
       " 'BAG1',\n",
       " 'PSMA2.1',\n",
       " 'BLVRA',\n",
       " 'TMEM123',\n",
       " 'C19orf66',\n",
       " 'GBP1',\n",
       " 'VAMP5',\n",
       " 'SNX3',\n",
       " 'BST2',\n",
       " 'SAMD9',\n",
       " 'NAGK',\n",
       " 'MB21D1',\n",
       " 'ATP6V0B',\n",
       " 'TREX1',\n",
       " 'RAB8A',\n",
       " 'GBP4',\n",
       " 'IFI35',\n",
       " 'PHF11',\n",
       " 'ENO1',\n",
       " 'FBXO6',\n",
       " 'TFEC',\n",
       " 'CD164']"
      ]
     },
     "execution_count": 49,
     "metadata": {},
     "output_type": "execute_result"
    }
   ],
   "source": [
    "# find the top 50 genes by padj and feed them into online gene ontology resources\n",
    "top50 = results_df.nsmallest(50, 'padj').index.tolist()\n",
    "top50"
   ]
  },
  {
   "cell_type": "code",
   "execution_count": null,
   "id": "c0bf9739-3b39-4780-8dac-64771a12fc0f",
   "metadata": {},
   "outputs": [],
   "source": []
  }
 ],
 "metadata": {
  "kernelspec": {
   "display_name": "Python 3 (ipykernel)",
   "language": "python",
   "name": "python3"
  },
  "language_info": {
   "codemirror_mode": {
    "name": "ipython",
    "version": 3
   },
   "file_extension": ".py",
   "mimetype": "text/x-python",
   "name": "python",
   "nbconvert_exporter": "python",
   "pygments_lexer": "ipython3",
   "version": "3.10.18"
  }
 },
 "nbformat": 4,
 "nbformat_minor": 5
}
